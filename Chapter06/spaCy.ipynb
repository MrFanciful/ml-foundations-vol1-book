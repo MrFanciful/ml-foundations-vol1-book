{
 "cells": [
  {
   "cell_type": "code",
   "execution_count": 1,
   "id": "0b58693e",
   "metadata": {},
   "outputs": [],
   "source": [
    "# Author: Roi Yehoshua <roiyeho@gmail.com>\n",
    "# May 2024\n",
    "# License: MIT"
   ]
  },
  {
   "cell_type": "code",
   "execution_count": 2,
   "id": "e352e965",
   "metadata": {},
   "outputs": [],
   "source": [
    "import spacy"
   ]
  },
  {
   "cell_type": "markdown",
   "id": "e74295f8",
   "metadata": {},
   "source": [
    "spaCy Core Components"
   ]
  },
  {
   "cell_type": "code",
   "execution_count": 3,
   "id": "3de88ec0",
   "metadata": {},
   "outputs": [],
   "source": [
    "nlp = spacy.load('en_core_web_sm')  # A small English NLP model"
   ]
  },
  {
   "cell_type": "code",
   "execution_count": 4,
   "id": "d869ad72",
   "metadata": {},
   "outputs": [],
   "source": [
    "doc = nlp(\"Apple is looking at buying a U.K. startup for $1 billion\")"
   ]
  },
  {
   "cell_type": "code",
   "execution_count": 5,
   "id": "2fe0acf0",
   "metadata": {},
   "outputs": [
    {
     "name": "stdout",
     "output_type": "stream",
     "text": [
      "['Apple', 'is', 'looking', 'at', 'buying', 'a', 'U.K.', 'startup', 'for', '$', '1', 'billion']\n"
     ]
    }
   ],
   "source": [
    "print([token.text for token in doc])"
   ]
  },
  {
   "cell_type": "code",
   "execution_count": 6,
   "id": "30d03f7c",
   "metadata": {},
   "outputs": [
    {
     "name": "stdout",
     "output_type": "stream",
     "text": [
      "Apple Apple PROPN\n",
      "is be AUX\n",
      "looking look VERB\n",
      "at at ADP\n",
      "buying buy VERB\n",
      "a a DET\n",
      "U.K. U.K. PROPN\n",
      "startup startup NOUN\n",
      "for for ADP\n",
      "$ $ SYM\n",
      "1 1 NUM\n",
      "billion billion NUM\n"
     ]
    }
   ],
   "source": [
    "for token in doc:\n",
    "    print(token.text, token.lemma_, token.pos_)"
   ]
  },
  {
   "cell_type": "code",
   "execution_count": 7,
   "id": "2658cd67",
   "metadata": {},
   "outputs": [
    {
     "name": "stdout",
     "output_type": "stream",
     "text": [
      "Apple ORG\n",
      "U.K. GPE\n",
      "$1 billion MONEY\n"
     ]
    }
   ],
   "source": [
    "for entity in doc.ents:\n",
    "    print(entity.text, entity.label_)"
   ]
  },
  {
   "cell_type": "markdown",
   "id": "178ae7ef",
   "metadata": {},
   "source": [
    "spaCy Pipeline"
   ]
  },
  {
   "cell_type": "code",
   "execution_count": 8,
   "id": "29387b19",
   "metadata": {},
   "outputs": [
    {
     "name": "stdout",
     "output_type": "stream",
     "text": [
      "['tok2vec', 'tagger', 'parser', 'attribute_ruler', 'lemmatizer', 'ner']\n"
     ]
    }
   ],
   "source": [
    "print(nlp.pipe_names)"
   ]
  },
  {
   "cell_type": "code",
   "execution_count": 9,
   "id": "e771c246",
   "metadata": {},
   "outputs": [
    {
     "name": "stdout",
     "output_type": "stream",
     "text": [
      "Processing document length: 12\n"
     ]
    }
   ],
   "source": [
    "from spacy.language import Language\n",
    "\n",
    "# Define the custom component function\n",
    "@Language.component('custom_component')\n",
    "def custom_component(doc):\n",
    "    # Do something to the doc here\n",
    "    print(\"Processing document length:\", len(doc))\n",
    "    return doc\n",
    "\n",
    "# Add the custom component to the pipeline using the registered name\n",
    "nlp.add_pipe('custom_component', last=True)\n",
    "\n",
    "# Process text to see the effect of the custom component\n",
    "doc = nlp(\"Apple is looking at buying a U.K. startup for $1 billion\")"
   ]
  },
  {
   "cell_type": "code",
   "execution_count": null,
   "id": "85409657",
   "metadata": {},
   "outputs": [],
   "source": []
  }
 ],
 "metadata": {
  "kernelspec": {
   "display_name": "Python 3 (ipykernel)",
   "language": "python",
   "name": "python3"
  },
  "language_info": {
   "codemirror_mode": {
    "name": "ipython",
    "version": 3
   },
   "file_extension": ".py",
   "mimetype": "text/x-python",
   "name": "python",
   "nbconvert_exporter": "python",
   "pygments_lexer": "ipython3",
   "version": "3.11.5"
  }
 },
 "nbformat": 4,
 "nbformat_minor": 5
}
