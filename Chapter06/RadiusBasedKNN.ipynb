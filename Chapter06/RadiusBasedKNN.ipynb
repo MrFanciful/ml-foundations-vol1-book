{
 "cells": [
  {
   "cell_type": "code",
   "execution_count": 1,
   "id": "28057442",
   "metadata": {},
   "outputs": [],
   "source": [
    "# Author: Roi Yehoshua <roiyeho@gmail.com>\n",
    "# April 2024\n",
    "# License: MIT"
   ]
  },
  {
   "cell_type": "code",
   "execution_count": 2,
   "id": "c06a5c6c",
   "metadata": {},
   "outputs": [],
   "source": [
    "import numpy as np"
   ]
  },
  {
   "cell_type": "code",
   "execution_count": 14,
   "id": "9c1e3072",
   "metadata": {},
   "outputs": [
    {
     "name": "stdout",
     "output_type": "stream",
     "text": [
      "Class prediction: [0]\n"
     ]
    }
   ],
   "source": [
    "from sklearn.neighbors import RadiusNeighborsClassifier\n",
    "\n",
    "# Sample data\n",
    "X_train = np.array([[1, 1], [2, 2], [3, 3], [8, 8], [9, 9], [10, 10]])\n",
    "y_train = np.array([0, 0, 0, 1, 1, 1])\n",
    "\n",
    "clf = RadiusNeighborsClassifier(radius=3)\n",
    "\n",
    "# Fit the model\n",
    "clf.fit(X_train, y_train)\n",
    "\n",
    "# Predict the class of a new point\n",
    "X_test = np.array([[2.5, 2.5]])\n",
    "print('Class prediction:', clf.predict(X_test))"
   ]
  },
  {
   "cell_type": "code",
   "execution_count": null,
   "id": "e01871c8",
   "metadata": {},
   "outputs": [],
   "source": []
  }
 ],
 "metadata": {
  "kernelspec": {
   "display_name": "Python 3 (ipykernel)",
   "language": "python",
   "name": "python3"
  },
  "language_info": {
   "codemirror_mode": {
    "name": "ipython",
    "version": 3
   },
   "file_extension": ".py",
   "mimetype": "text/x-python",
   "name": "python",
   "nbconvert_exporter": "python",
   "pygments_lexer": "ipython3",
   "version": "3.11.5"
  }
 },
 "nbformat": 4,
 "nbformat_minor": 5
}
