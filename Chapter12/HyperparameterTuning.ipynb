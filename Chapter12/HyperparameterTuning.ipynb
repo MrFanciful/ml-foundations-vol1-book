{
 "cells": [
  {
   "cell_type": "code",
   "execution_count": 1,
   "id": "be2d928a-0596-4de7-aa0a-0193206cc259",
   "metadata": {},
   "outputs": [],
   "source": [
    "# Author: Roi Yehoshua <roiyeho@gmail.com>\n",
    "# December 2024\n",
    "# License: MIT"
   ]
  },
  {
   "cell_type": "code",
   "execution_count": 2,
   "id": "9eaa1864-e77b-4876-a3b3-5652a5402b3d",
   "metadata": {},
   "outputs": [],
   "source": [
    "import numpy as np\n",
    "import matplotlib.pyplot as plt\n",
    "\n",
    "np.random.seed(42)"
   ]
  },
  {
   "cell_type": "code",
   "execution_count": 3,
   "id": "3ca85fdc-2be6-4cde-9e1d-a2553c6d8525",
   "metadata": {},
   "outputs": [],
   "source": [
    "from sklearn.datasets import fetch_openml\n",
    "from sklearn.model_selection import train_test_split\n",
    "from sklearn.preprocessing import StandardScaler\n",
    "\n",
    "X, y = fetch_openml(name='diabetes', version=1, as_frame=False, return_X_y=True)\n",
    "\n",
    "# Convert the target to integers \n",
    "y = (y == 'tested_positive').astype(int)\n",
    "X_train, X_test, y_train, y_test = train_test_split(X, y, random_state=42)\n",
    "\n",
    "scaler = StandardScaler()\n",
    "X_train = scaler.fit_transform(X_train)\n",
    "X_test = scaler.transform(X_test)"
   ]
  },
  {
   "cell_type": "code",
   "execution_count": 4,
   "id": "3a60aacd-dbba-45ca-b9a5-4efb6a330067",
   "metadata": {},
   "outputs": [
    {
     "name": "stdout",
     "output_type": "stream",
     "text": [
      "{'solver': 'sgd', 'momentum': 0.5, 'learning_rate_init': 1.0, 'hidden_layer_sizes': (50, 50), 'early_stopping': False, 'batch_size': 128, 'alpha': 0.001, 'activation': 'logistic'}\n"
     ]
    }
   ],
   "source": [
    "from sklearn.model_selection import RandomizedSearchCV\n",
    "from sklearn.neural_network import MLPClassifier\n",
    "\n",
    "params = {\n",
    "    'hidden_layer_sizes': [(10,), (50,), (100,), (10, 10), (50, 50)],\n",
    "    'solver': ['sgd', 'adam'],\n",
    "    'learning_rate_init': np.logspace(-5, 0, 6),\n",
    "    'momentum': [0.5, 0.8, 0.9, 0.95, 0.99],\n",
    "    'batch_size': [32, 64, 128],\n",
    "    'activation': ['logistic', 'tanh', 'relu'],\n",
    "    'alpha': np.logspace(-5, 0, 6),\n",
    "    'early_stopping': [True, False]\n",
    "}\n",
    "\n",
    "clf = MLPClassifier(random_state=42)\n",
    "random_search = RandomizedSearchCV(clf, params, n_iter=50, cv=3, random_state=42, n_jobs=-1)\n",
    "random_search.fit(X_train, y_train)\n",
    "print(random_search.best_params_)"
   ]
  },
  {
   "cell_type": "code",
   "execution_count": 5,
   "id": "6e680957-b9f6-4e9c-baa2-57d2926da3ce",
   "metadata": {},
   "outputs": [
    {
     "name": "stdout",
     "output_type": "stream",
     "text": [
      "Train accuracy: 0.7795\n",
      "Test accuracy: 0.7865\n"
     ]
    }
   ],
   "source": [
    "print(f'Train accuracy: {random_search.score(X_train, y_train):.4f}')\n",
    "print(f'Test accuracy: {random_search.score(X_test, y_test):.4f}')"
   ]
  },
  {
   "cell_type": "code",
   "execution_count": null,
   "id": "e65dd8f2-61a8-4f2d-9dd1-a25ac6b2b805",
   "metadata": {},
   "outputs": [],
   "source": []
  }
 ],
 "metadata": {
  "kernelspec": {
   "display_name": "Python 3 (ipykernel)",
   "language": "python",
   "name": "python3"
  },
  "language_info": {
   "codemirror_mode": {
    "name": "ipython",
    "version": 3
   },
   "file_extension": ".py",
   "mimetype": "text/x-python",
   "name": "python",
   "nbconvert_exporter": "python",
   "pygments_lexer": "ipython3",
   "version": "3.11.5"
  }
 },
 "nbformat": 4,
 "nbformat_minor": 5
}
