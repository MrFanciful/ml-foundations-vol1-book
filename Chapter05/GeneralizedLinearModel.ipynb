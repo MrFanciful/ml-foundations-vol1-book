{
 "cells": [
  {
   "cell_type": "code",
   "execution_count": 1,
   "id": "b9aceb22",
   "metadata": {},
   "outputs": [],
   "source": [
    "# Author: Roi Yehoshua <roiyeho@gmail.com>\n",
    "# License: MIT\n",
    "# April 2024"
   ]
  },
  {
   "cell_type": "code",
   "execution_count": 2,
   "id": "aaf4738e",
   "metadata": {},
   "outputs": [
    {
     "name": "stdout",
     "output_type": "stream",
     "text": [
      "Model score (R2): 0.9836743060369408\n"
     ]
    }
   ],
   "source": [
    "from sklearn.linear_model import TweedieRegressor\n",
    "\n",
    "# Sample data representing the number of calls received in two-hour blocks\n",
    "X = [[1], [2], [3], [4]]  # Average number of callers in queue\n",
    "y = [3, 8, 15, 27]  # Number of calls received (count data)\n",
    "\n",
    "reg = TweedieRegressor(power=1, link='log')  # power=1 for Poisson distribution\n",
    "reg.fit(X, y)\n",
    "\n",
    "score = reg.score(X, y)\n",
    "print(f'Model score (R2):', score)"
   ]
  },
  {
   "cell_type": "code",
   "execution_count": null,
   "id": "cc81cc6c",
   "metadata": {},
   "outputs": [],
   "source": []
  }
 ],
 "metadata": {
  "kernelspec": {
   "display_name": "Python 3 (ipykernel)",
   "language": "python",
   "name": "python3"
  },
  "language_info": {
   "codemirror_mode": {
    "name": "ipython",
    "version": 3
   },
   "file_extension": ".py",
   "mimetype": "text/x-python",
   "name": "python",
   "nbconvert_exporter": "python",
   "pygments_lexer": "ipython3",
   "version": "3.11.5"
  }
 },
 "nbformat": 4,
 "nbformat_minor": 5
}
