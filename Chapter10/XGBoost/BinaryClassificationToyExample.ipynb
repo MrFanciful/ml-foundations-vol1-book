{
 "cells": [
  {
   "cell_type": "code",
   "execution_count": 1,
   "id": "abe67f02",
   "metadata": {},
   "outputs": [],
   "source": [
    "import numpy as np"
   ]
  },
  {
   "cell_type": "code",
   "execution_count": 2,
   "id": "77f73e99",
   "metadata": {},
   "outputs": [],
   "source": [
    "def sigmoid(x):\n",
    "    return 1 / (1 + np.exp(-x))"
   ]
  },
  {
   "cell_type": "markdown",
   "id": "5d2b25b8",
   "metadata": {},
   "source": [
    "### Initialization"
   ]
  },
  {
   "cell_type": "code",
   "execution_count": 3,
   "id": "672d9c83",
   "metadata": {},
   "outputs": [
    {
     "data": {
      "text/plain": [
       "0.6931471805599453"
      ]
     },
     "execution_count": 3,
     "metadata": {},
     "output_type": "execute_result"
    }
   ],
   "source": [
    "h0 = np.log(4/6 / (2/6))\n",
    "h0"
   ]
  },
  {
   "cell_type": "code",
   "execution_count": 4,
   "id": "d05a2184",
   "metadata": {},
   "outputs": [
    {
     "data": {
      "text/plain": [
       "0.6666666666666666"
      ]
     },
     "execution_count": 4,
     "metadata": {},
     "output_type": "execute_result"
    }
   ],
   "source": [
    "sigmoid(h0)"
   ]
  },
  {
   "cell_type": "code",
   "execution_count": 5,
   "id": "cc912f6e",
   "metadata": {},
   "outputs": [
    {
     "data": {
      "text/plain": [
       "-0.33299999999999996"
      ]
     },
     "execution_count": 5,
     "metadata": {},
     "output_type": "execute_result"
    }
   ],
   "source": [
    "0.667 - 1"
   ]
  },
  {
   "cell_type": "code",
   "execution_count": 6,
   "id": "de35a3bf",
   "metadata": {},
   "outputs": [
    {
     "data": {
      "text/plain": [
       "0.667"
      ]
     },
     "execution_count": 6,
     "metadata": {},
     "output_type": "execute_result"
    }
   ],
   "source": [
    "0.667 - 0"
   ]
  },
  {
   "cell_type": "code",
   "execution_count": 7,
   "id": "eb7399cd",
   "metadata": {},
   "outputs": [
    {
     "data": {
      "text/plain": [
       "0.22211099999999998"
      ]
     },
     "execution_count": 7,
     "metadata": {},
     "output_type": "execute_result"
    }
   ],
   "source": [
    "0.667 * (1 - 0.667)"
   ]
  },
  {
   "cell_type": "code",
   "execution_count": 8,
   "id": "0f3bf9e7",
   "metadata": {},
   "outputs": [
    {
     "data": {
      "text/plain": [
       "0.0019999999999999463"
      ]
     },
     "execution_count": 8,
     "metadata": {},
     "output_type": "execute_result"
    }
   ],
   "source": [
    "g_root = [-0.333, -0.333, -0.333, 0.667, 0.667, -0.333]\n",
    "G = np.sum(g_root)\n",
    "G"
   ]
  },
  {
   "cell_type": "code",
   "execution_count": 9,
   "id": "76c659b1",
   "metadata": {},
   "outputs": [
    {
     "data": {
      "text/plain": [
       "1.332"
      ]
     },
     "execution_count": 9,
     "metadata": {},
     "output_type": "execute_result"
    }
   ],
   "source": [
    "h_root = [0.222, 0.222, 0.222, 0.222, 0.222, 0.222]\n",
    "H = np.sum(h_root)\n",
    "H"
   ]
  },
  {
   "cell_type": "markdown",
   "id": "95d2fd19",
   "metadata": {},
   "source": [
    "### First Boosting Iteration"
   ]
  },
  {
   "cell_type": "code",
   "execution_count": 10,
   "id": "e7de270c",
   "metadata": {},
   "outputs": [],
   "source": [
    "def calc_gain(g_left, h_left, G, H, gamma=0, reg_lambda=0.1):\n",
    "    G_L = np.round(np.sum(g_left), 3)\n",
    "    H_L = np.round(np.sum(h_left), 3)\n",
    "    print(f'G_L = {G_L}, H_L = {H_L}')\n",
    "    G_R = np.round(G - G_L, 3)\n",
    "    H_R = np.round(H - H_L, 3)\n",
    "    print(f'G_R = {G_R}, H_R = {H_R}')\n",
    "    gain = 0.5 * (G_L**2 / (H_L + reg_lambda) + G_R**2 / (H_R + reg_lambda) - G**2 / (H + reg_lambda)) - gamma\n",
    "    print(f'gain = {gain}')"
   ]
  },
  {
   "cell_type": "markdown",
   "id": "bca584d5",
   "metadata": {},
   "source": [
    "Income = Low"
   ]
  },
  {
   "cell_type": "code",
   "execution_count": 11,
   "id": "b77b4780",
   "metadata": {},
   "outputs": [
    {
     "name": "stdout",
     "output_type": "stream",
     "text": [
      "G_L = 0.001, H_L = 0.666\n",
      "G_R = 0.001, H_R = 0.666\n",
      "gain = -9.116501597203565e-08\n"
     ]
    }
   ],
   "source": [
    "g_left = [-0.333, -0.333, 0.667]\n",
    "h_left = [0.222, 0.222, 0.222]\n",
    "\n",
    "calc_gain(g_left, h_left, G, H)"
   ]
  },
  {
   "cell_type": "markdown",
   "id": "e820b88c",
   "metadata": {},
   "source": [
    "Income = Medium"
   ]
  },
  {
   "cell_type": "code",
   "execution_count": 12,
   "id": "99984fb2",
   "metadata": {},
   "outputs": [
    {
     "name": "stdout",
     "output_type": "stream",
     "text": [
      "G_L = 0.334, H_L = 0.444\n",
      "G_R = -0.332, H_R = 0.888\n",
      "gain = 0.15831306810546808\n"
     ]
    }
   ],
   "source": [
    "g_left = [-0.333, 0.667]\n",
    "h_left = [0.222, 0.222]\n",
    "\n",
    "calc_gain(g_left, h_left, G, H)"
   ]
  },
  {
   "cell_type": "markdown",
   "id": "226188a0",
   "metadata": {},
   "source": [
    "Income = High"
   ]
  },
  {
   "cell_type": "code",
   "execution_count": 13,
   "id": "814103a1",
   "metadata": {},
   "outputs": [
    {
     "name": "stdout",
     "output_type": "stream",
     "text": [
      "G_L = -0.333, H_L = 0.222\n",
      "G_R = 0.335, H_R = 1.11\n",
      "gain = 0.21856045849286185\n"
     ]
    }
   ],
   "source": [
    "g_left = [-0.333]\n",
    "h_left = [0.222]\n",
    "\n",
    "calc_gain(g_left, h_left, G, H)"
   ]
  },
  {
   "cell_type": "markdown",
   "id": "3ed341ed",
   "metadata": {},
   "source": [
    "Education = High School"
   ]
  },
  {
   "cell_type": "code",
   "execution_count": 14,
   "id": "5b70aecd",
   "metadata": {},
   "outputs": [
    {
     "name": "stdout",
     "output_type": "stream",
     "text": [
      "G_L = 0.334, H_L = 0.444\n",
      "G_R = -0.332, H_R = 0.888\n",
      "gain = 0.15831306810546808\n"
     ]
    }
   ],
   "source": [
    "g_left = [-0.333, 0.667]\n",
    "h_left = [0.222, 0.222]\n",
    "\n",
    "calc_gain(g_left, h_left, G, H)"
   ]
  },
  {
   "cell_type": "markdown",
   "id": "6eb3637c",
   "metadata": {},
   "source": [
    "Age"
   ]
  },
  {
   "cell_type": "code",
   "execution_count": 15,
   "id": "b6ea26c5",
   "metadata": {},
   "outputs": [],
   "source": [
    "# Sorting gradients by age\n",
    "g = [-0.333, -0.333, 0.667, -0.333, 0.667, -0.333]\n",
    "h = [0.222, 0.222, 0.222, 0.222, 0.222, 0.222] "
   ]
  },
  {
   "cell_type": "markdown",
   "id": "a8b5cc91",
   "metadata": {},
   "source": [
    "Age < 23.5"
   ]
  },
  {
   "cell_type": "code",
   "execution_count": 16,
   "id": "37f6b467",
   "metadata": {},
   "outputs": [
    {
     "name": "stdout",
     "output_type": "stream",
     "text": [
      "G_L = -0.333, H_L = 0.222\n",
      "G_R = 0.335, H_R = 1.11\n",
      "gain = 0.21856045849286185\n"
     ]
    }
   ],
   "source": [
    "g_left = g[:1]\n",
    "h_left = h[:1]\n",
    "\n",
    "calc_gain(g_left, h_left, G, H)"
   ]
  },
  {
   "cell_type": "markdown",
   "id": "4066b182",
   "metadata": {},
   "source": [
    "Age < 26.5"
   ]
  },
  {
   "cell_type": "code",
   "execution_count": 17,
   "id": "34e68f40",
   "metadata": {},
   "outputs": [
    {
     "name": "stdout",
     "output_type": "stream",
     "text": [
      "G_L = -0.666, H_L = 0.444\n",
      "G_R = 0.668, H_R = 0.888\n",
      "gain = 0.6335006127589571\n"
     ]
    }
   ],
   "source": [
    "g_left = g[:2]\n",
    "h_left = h[:2]\n",
    "\n",
    "calc_gain(g_left, h_left, G, H)"
   ]
  },
  {
   "cell_type": "markdown",
   "id": "d65cb8c2",
   "metadata": {},
   "source": [
    "Age < 29"
   ]
  },
  {
   "cell_type": "code",
   "execution_count": 18,
   "id": "360eba28",
   "metadata": {},
   "outputs": [
    {
     "name": "stdout",
     "output_type": "stream",
     "text": [
      "G_L = 0.001, H_L = 0.666\n",
      "G_R = 0.001, H_R = 0.666\n",
      "gain = -9.116501597203565e-08\n"
     ]
    }
   ],
   "source": [
    "g_left = g[:3]\n",
    "h_left = h[:3]\n",
    "\n",
    "calc_gain(g_left, h_left, G, H)"
   ]
  },
  {
   "cell_type": "markdown",
   "id": "01e935f3",
   "metadata": {},
   "source": [
    "Age < 32.5"
   ]
  },
  {
   "cell_type": "code",
   "execution_count": 19,
   "id": "69005599",
   "metadata": {},
   "outputs": [
    {
     "name": "stdout",
     "output_type": "stream",
     "text": [
      "G_L = -0.332, H_L = 0.888\n",
      "G_R = 0.334, H_R = 0.444\n",
      "gain = 0.15831306810546808\n"
     ]
    }
   ],
   "source": [
    "g_left = g[:4]\n",
    "h_left = h[:4]\n",
    "\n",
    "calc_gain(g_left, h_left, G, H)"
   ]
  },
  {
   "cell_type": "markdown",
   "id": "d6a9e740",
   "metadata": {},
   "source": [
    "Age < 37.5"
   ]
  },
  {
   "cell_type": "code",
   "execution_count": 20,
   "id": "88a27978",
   "metadata": {},
   "outputs": [
    {
     "name": "stdout",
     "output_type": "stream",
     "text": [
      "G_L = 0.335, H_L = 1.11\n",
      "G_R = -0.333, H_R = 0.222\n",
      "gain = 0.21856045849286185\n"
     ]
    }
   ],
   "source": [
    "g_left = g[:5]\n",
    "h_left = h[:5]\n",
    "\n",
    "calc_gain(g_left, h_left, G, H)"
   ]
  },
  {
   "cell_type": "markdown",
   "id": "119b6813",
   "metadata": {},
   "source": [
    "Splitting by Age < 26.5"
   ]
  },
  {
   "cell_type": "markdown",
   "id": "ffdefbd3",
   "metadata": {},
   "source": [
    "#### Second level of the tree"
   ]
  },
  {
   "cell_type": "code",
   "execution_count": 21,
   "id": "79967320",
   "metadata": {},
   "outputs": [],
   "source": [
    "g_right = [-0.333, 0.667, 0.667, -0.333]\n",
    "h_right = [0.222, 0.222, 0.222, 0.222]"
   ]
  },
  {
   "cell_type": "code",
   "execution_count": 22,
   "id": "9d193bcd",
   "metadata": {},
   "outputs": [
    {
     "data": {
      "text/plain": [
       "0.6680000000000001"
      ]
     },
     "execution_count": 22,
     "metadata": {},
     "output_type": "execute_result"
    }
   ],
   "source": [
    "G = np.sum(g_right)\n",
    "G"
   ]
  },
  {
   "cell_type": "code",
   "execution_count": 23,
   "id": "98c95858",
   "metadata": {},
   "outputs": [
    {
     "data": {
      "text/plain": [
       "0.888"
      ]
     },
     "execution_count": 23,
     "metadata": {},
     "output_type": "execute_result"
    }
   ],
   "source": [
    "H = np.sum(h_right)\n",
    "H"
   ]
  },
  {
   "cell_type": "markdown",
   "id": "e586065c",
   "metadata": {},
   "source": [
    "Income = Low"
   ]
  },
  {
   "cell_type": "code",
   "execution_count": 24,
   "id": "fc0064ba",
   "metadata": {},
   "outputs": [
    {
     "name": "stdout",
     "output_type": "stream",
     "text": [
      "G_L = 0.334, H_L = 0.444\n",
      "G_R = 0.334, H_R = 0.444\n",
      "gain = -0.02075568587758997\n"
     ]
    }
   ],
   "source": [
    "g_left = [-0.333, 0.667]\n",
    "h_left = [0.222, 0.222]\n",
    "\n",
    "calc_gain(g_left, h_left, G, H)"
   ]
  },
  {
   "cell_type": "code",
   "execution_count": 25,
   "id": "60adb397",
   "metadata": {},
   "outputs": [
    {
     "data": {
      "text/plain": [
       "-0.020755685877589913"
      ]
     },
     "execution_count": 25,
     "metadata": {},
     "output_type": "execute_result"
    }
   ],
   "source": [
    "0.5 * ((0.334**2 / (0.444 + 0.1)) + (0.334**2 / (0.444 + 0.1)) - (0.668**2 / (0.888 + 0.1)))"
   ]
  },
  {
   "cell_type": "markdown",
   "id": "0c4ef954",
   "metadata": {},
   "source": [
    "Income = Medium"
   ]
  },
  {
   "cell_type": "code",
   "execution_count": 26,
   "id": "b5f9f4ab",
   "metadata": {},
   "outputs": [
    {
     "name": "stdout",
     "output_type": "stream",
     "text": [
      "G_L = 0.667, H_L = 0.222\n",
      "G_R = 0.001, H_R = 0.666\n",
      "gain = 0.46500021896476473\n"
     ]
    }
   ],
   "source": [
    "g_left = [0.667]\n",
    "h_left = [0.222]\n",
    "\n",
    "calc_gain(g_left, h_left, G, H)"
   ]
  },
  {
   "cell_type": "code",
   "execution_count": 27,
   "id": "e4f0478a",
   "metadata": {},
   "outputs": [
    {
     "data": {
      "text/plain": [
       "0.46500021896476484"
      ]
     },
     "execution_count": 27,
     "metadata": {},
     "output_type": "execute_result"
    }
   ],
   "source": [
    "0.5 * ((0.667**2 / (0.222 + 0.1)) + (0.001**2 / (0.666 + 0.1)) - (0.668**2 / (0.888 + 0.1)))"
   ]
  },
  {
   "cell_type": "markdown",
   "id": "97cb5230",
   "metadata": {},
   "source": [
    "Income = High"
   ]
  },
  {
   "cell_type": "code",
   "execution_count": 28,
   "id": "3b85461d",
   "metadata": {},
   "outputs": [
    {
     "name": "stdout",
     "output_type": "stream",
     "text": [
      "G_L = -0.333, H_L = 0.222\n",
      "G_R = 1.001, H_R = 0.666\n",
      "gain = 0.6004136759811276\n"
     ]
    }
   ],
   "source": [
    "g_left = [-0.333]\n",
    "h_left = [0.222]\n",
    "\n",
    "calc_gain(g_left, h_left, G, H)"
   ]
  },
  {
   "cell_type": "code",
   "execution_count": 29,
   "id": "feb4db1e",
   "metadata": {},
   "outputs": [
    {
     "data": {
      "text/plain": [
       "0.6004136759811277"
      ]
     },
     "execution_count": 29,
     "metadata": {},
     "output_type": "execute_result"
    }
   ],
   "source": [
    "0.5 * (((-0.333)**2 / (0.222 + 0.1)) + (1.001**2 / (0.666 + 0.1)) - (0.668**2 / (0.888 + 0.1)))"
   ]
  },
  {
   "cell_type": "markdown",
   "id": "05836e36",
   "metadata": {},
   "source": [
    "Education = High School"
   ]
  },
  {
   "cell_type": "code",
   "execution_count": 30,
   "id": "9ab6f20a",
   "metadata": {},
   "outputs": [
    {
     "name": "stdout",
     "output_type": "stream",
     "text": [
      "G_L = 0.667, H_L = 0.222\n",
      "G_R = 0.001, H_R = 0.666\n",
      "gain = 0.46500021896476473\n"
     ]
    }
   ],
   "source": [
    "g_left = [0.667]\n",
    "h_left = [0.222]\n",
    "\n",
    "calc_gain(g_left, h_left, G, H)"
   ]
  },
  {
   "cell_type": "markdown",
   "id": "1eb3de3c",
   "metadata": {},
   "source": [
    "Age"
   ]
  },
  {
   "cell_type": "code",
   "execution_count": 31,
   "id": "208fd932",
   "metadata": {},
   "outputs": [],
   "source": [
    "# Sorting gradients by age\n",
    "g = [0.667, -0.333, 0.667, -0.333]\n",
    "h = [0.222, 0.222, 0.222, 0.222] "
   ]
  },
  {
   "cell_type": "markdown",
   "id": "1cf839a7",
   "metadata": {},
   "source": [
    "Age < 29"
   ]
  },
  {
   "cell_type": "code",
   "execution_count": 32,
   "id": "1a388d18",
   "metadata": {},
   "outputs": [
    {
     "name": "stdout",
     "output_type": "stream",
     "text": [
      "G_L = 0.667, H_L = 0.222\n",
      "G_R = 0.001, H_R = 0.666\n",
      "gain = 0.46500021896476473\n"
     ]
    }
   ],
   "source": [
    "g_left = g[:1]\n",
    "h_left = h[:1]\n",
    "\n",
    "calc_gain(g_left, h_left, G, H)"
   ]
  },
  {
   "cell_type": "markdown",
   "id": "85c27148",
   "metadata": {},
   "source": [
    "Age < 32.5"
   ]
  },
  {
   "cell_type": "code",
   "execution_count": 33,
   "id": "997c537c",
   "metadata": {},
   "outputs": [
    {
     "name": "stdout",
     "output_type": "stream",
     "text": [
      "G_L = 0.334, H_L = 0.444\n",
      "G_R = 0.334, H_R = 0.444\n",
      "gain = -0.02075568587758997\n"
     ]
    }
   ],
   "source": [
    "g_left = g[:2]\n",
    "h_left = h[:2]\n",
    "\n",
    "calc_gain(g_left, h_left, G, H)"
   ]
  },
  {
   "cell_type": "markdown",
   "id": "630b6048",
   "metadata": {},
   "source": [
    "Age < 37.5"
   ]
  },
  {
   "cell_type": "code",
   "execution_count": 34,
   "id": "5ba54790",
   "metadata": {},
   "outputs": [
    {
     "name": "stdout",
     "output_type": "stream",
     "text": [
      "G_L = 1.001, H_L = 0.666\n",
      "G_R = -0.333, H_R = 0.222\n",
      "gain = 0.6004136759811276\n"
     ]
    }
   ],
   "source": [
    "g_left = g[:3]\n",
    "h_left = h[:3]\n",
    "\n",
    "calc_gain(g_left, h_left, G, H)"
   ]
  },
  {
   "cell_type": "markdown",
   "id": "e6eb956c",
   "metadata": {},
   "source": [
    "Splitting by Income = High"
   ]
  },
  {
   "cell_type": "markdown",
   "id": "2dfa79af",
   "metadata": {},
   "source": [
    "Computing output values"
   ]
  },
  {
   "cell_type": "code",
   "execution_count": 35,
   "id": "eea28e6e",
   "metadata": {},
   "outputs": [
    {
     "data": {
      "text/plain": [
       "1.2242647058823528"
      ]
     },
     "execution_count": 35,
     "metadata": {},
     "output_type": "execute_result"
    }
   ],
   "source": [
    "w1 = -(-0.666) / (0.444 + 0.1)\n",
    "w1"
   ]
  },
  {
   "cell_type": "code",
   "execution_count": 36,
   "id": "dd384f79",
   "metadata": {},
   "outputs": [
    {
     "data": {
      "text/plain": [
       "1.03416149068323"
      ]
     },
     "execution_count": 36,
     "metadata": {},
     "output_type": "execute_result"
    }
   ],
   "source": [
    "w2 = -(-0.333) / (0.222 + 0.1)\n",
    "w2"
   ]
  },
  {
   "cell_type": "code",
   "execution_count": 37,
   "id": "b3d379e0",
   "metadata": {},
   "outputs": [
    {
     "data": {
      "text/plain": [
       "-1.3067885117493472"
      ]
     },
     "execution_count": 37,
     "metadata": {},
     "output_type": "execute_result"
    }
   ],
   "source": [
    "w3 = -1.001 / (0.666 + 0.1)\n",
    "w3"
   ]
  },
  {
   "cell_type": "markdown",
   "id": "0bb09c74",
   "metadata": {},
   "source": [
    "Updating the model's predictions"
   ]
  },
  {
   "cell_type": "code",
   "execution_count": 38,
   "id": "8769bb2c",
   "metadata": {},
   "outputs": [
    {
     "data": {
      "text/plain": [
       "1.305"
      ]
     },
     "execution_count": 38,
     "metadata": {},
     "output_type": "execute_result"
    }
   ],
   "source": [
    "F1 = 0.693 + 0.5 * 1.224\n",
    "F1"
   ]
  },
  {
   "cell_type": "code",
   "execution_count": 39,
   "id": "d7f6ac3c",
   "metadata": {},
   "outputs": [
    {
     "data": {
      "text/plain": [
       "0.7866752721841397"
      ]
     },
     "execution_count": 39,
     "metadata": {},
     "output_type": "execute_result"
    }
   ],
   "source": [
    "p1 = sigmoid(1.305)\n",
    "p1"
   ]
  },
  {
   "cell_type": "code",
   "execution_count": 40,
   "id": "37f25e17",
   "metadata": {},
   "outputs": [
    {
     "data": {
      "text/plain": [
       "-0.21299999999999997"
      ]
     },
     "execution_count": 40,
     "metadata": {},
     "output_type": "execute_result"
    }
   ],
   "source": [
    "g1 = 0.787 - 1\n",
    "g1"
   ]
  },
  {
   "cell_type": "code",
   "execution_count": 41,
   "id": "64221378",
   "metadata": {},
   "outputs": [
    {
     "data": {
      "text/plain": [
       "0.16763099999999997"
      ]
     },
     "execution_count": 41,
     "metadata": {},
     "output_type": "execute_result"
    }
   ],
   "source": [
    "h1 = 0.787 * (1 - 0.787)\n",
    "h1"
   ]
  },
  {
   "cell_type": "code",
   "execution_count": 42,
   "id": "3486c31d",
   "metadata": {},
   "outputs": [
    {
     "data": {
      "text/plain": [
       "0.03949999999999998"
      ]
     },
     "execution_count": 42,
     "metadata": {},
     "output_type": "execute_result"
    }
   ],
   "source": [
    "F2 = 0.693 + 0.5 * (-1.307)\n",
    "F2"
   ]
  },
  {
   "cell_type": "code",
   "execution_count": 43,
   "id": "f7983669",
   "metadata": {},
   "outputs": [
    {
     "data": {
      "text/plain": [
       "0.5097487643754381"
      ]
     },
     "execution_count": 43,
     "metadata": {},
     "output_type": "execute_result"
    }
   ],
   "source": [
    "p2 = sigmoid(0.039)\n",
    "p2"
   ]
  },
  {
   "cell_type": "code",
   "execution_count": 44,
   "id": "b161f8da",
   "metadata": {},
   "outputs": [
    {
     "data": {
      "text/plain": [
       "-0.49"
      ]
     },
     "execution_count": 44,
     "metadata": {},
     "output_type": "execute_result"
    }
   ],
   "source": [
    "g2 = 0.510 - 1\n",
    "g2"
   ]
  },
  {
   "cell_type": "code",
   "execution_count": 45,
   "id": "41e03796",
   "metadata": {},
   "outputs": [
    {
     "data": {
      "text/plain": [
       "0.2499"
      ]
     },
     "execution_count": 45,
     "metadata": {},
     "output_type": "execute_result"
    }
   ],
   "source": [
    "h2 = 0.510 * (1 - 0.510)\n",
    "h2"
   ]
  },
  {
   "cell_type": "code",
   "execution_count": 46,
   "id": "fcda6fca",
   "metadata": {},
   "outputs": [
    {
     "data": {
      "text/plain": [
       "1.305"
      ]
     },
     "execution_count": 46,
     "metadata": {},
     "output_type": "execute_result"
    }
   ],
   "source": [
    "F3 = 0.693 + 0.5 * 1.224\n",
    "F3"
   ]
  },
  {
   "cell_type": "code",
   "execution_count": 47,
   "id": "4c357926",
   "metadata": {},
   "outputs": [
    {
     "data": {
      "text/plain": [
       "0.7866752721841397"
      ]
     },
     "execution_count": 47,
     "metadata": {},
     "output_type": "execute_result"
    }
   ],
   "source": [
    "p3 = sigmoid(1.305)\n",
    "p3"
   ]
  },
  {
   "cell_type": "code",
   "execution_count": 48,
   "id": "8064951b",
   "metadata": {},
   "outputs": [
    {
     "data": {
      "text/plain": [
       "-0.21299999999999997"
      ]
     },
     "execution_count": 48,
     "metadata": {},
     "output_type": "execute_result"
    }
   ],
   "source": [
    "g3 = 0.787 - 1\n",
    "g3"
   ]
  },
  {
   "cell_type": "code",
   "execution_count": 49,
   "id": "c36d4a9f",
   "metadata": {},
   "outputs": [
    {
     "data": {
      "text/plain": [
       "0.16763099999999997"
      ]
     },
     "execution_count": 49,
     "metadata": {},
     "output_type": "execute_result"
    }
   ],
   "source": [
    "h3 = 0.787 * (1 - 0.787)\n",
    "h3"
   ]
  },
  {
   "cell_type": "code",
   "execution_count": 50,
   "id": "699a0df3",
   "metadata": {},
   "outputs": [
    {
     "data": {
      "text/plain": [
       "0.03949999999999998"
      ]
     },
     "execution_count": 50,
     "metadata": {},
     "output_type": "execute_result"
    }
   ],
   "source": [
    "F4 = 0.693 + 0.5 * (-1.307)\n",
    "F4"
   ]
  },
  {
   "cell_type": "code",
   "execution_count": 51,
   "id": "1b4750eb",
   "metadata": {},
   "outputs": [
    {
     "data": {
      "text/plain": [
       "0.5097487643754381"
      ]
     },
     "execution_count": 51,
     "metadata": {},
     "output_type": "execute_result"
    }
   ],
   "source": [
    "p4 = sigmoid(0.039)\n",
    "p4"
   ]
  },
  {
   "cell_type": "code",
   "execution_count": 52,
   "id": "472d2b6f",
   "metadata": {},
   "outputs": [
    {
     "data": {
      "text/plain": [
       "0.51"
      ]
     },
     "execution_count": 52,
     "metadata": {},
     "output_type": "execute_result"
    }
   ],
   "source": [
    "g4 = 0.510 - 0\n",
    "g4"
   ]
  },
  {
   "cell_type": "code",
   "execution_count": 53,
   "id": "7534ec07",
   "metadata": {},
   "outputs": [
    {
     "data": {
      "text/plain": [
       "0.2499"
      ]
     },
     "execution_count": 53,
     "metadata": {},
     "output_type": "execute_result"
    }
   ],
   "source": [
    "h4 = 0.510 * (1 - 0.510)\n",
    "h4"
   ]
  },
  {
   "cell_type": "code",
   "execution_count": 54,
   "id": "b5e3b789",
   "metadata": {},
   "outputs": [
    {
     "data": {
      "text/plain": [
       "0.03949999999999998"
      ]
     },
     "execution_count": 54,
     "metadata": {},
     "output_type": "execute_result"
    }
   ],
   "source": [
    "F5 = 0.693 + 0.5 * (-1.307)\n",
    "F5"
   ]
  },
  {
   "cell_type": "code",
   "execution_count": 55,
   "id": "2ec4a22a",
   "metadata": {},
   "outputs": [
    {
     "data": {
      "text/plain": [
       "0.5097487643754381"
      ]
     },
     "execution_count": 55,
     "metadata": {},
     "output_type": "execute_result"
    }
   ],
   "source": [
    "p5 = sigmoid(0.039)\n",
    "p5"
   ]
  },
  {
   "cell_type": "code",
   "execution_count": 56,
   "id": "3d897602",
   "metadata": {},
   "outputs": [
    {
     "data": {
      "text/plain": [
       "0.51"
      ]
     },
     "execution_count": 56,
     "metadata": {},
     "output_type": "execute_result"
    }
   ],
   "source": [
    "g5 = 0.510 - 0\n",
    "g5"
   ]
  },
  {
   "cell_type": "code",
   "execution_count": 57,
   "id": "6a44861d",
   "metadata": {},
   "outputs": [
    {
     "data": {
      "text/plain": [
       "0.2499"
      ]
     },
     "execution_count": 57,
     "metadata": {},
     "output_type": "execute_result"
    }
   ],
   "source": [
    "h5 = 0.510 * (1 - 0.510)\n",
    "h5"
   ]
  },
  {
   "cell_type": "code",
   "execution_count": 58,
   "id": "3725ff3c",
   "metadata": {},
   "outputs": [
    {
     "data": {
      "text/plain": [
       "1.21"
      ]
     },
     "execution_count": 58,
     "metadata": {},
     "output_type": "execute_result"
    }
   ],
   "source": [
    "F6 = 0.693 + 0.5 * 1.034\n",
    "F6"
   ]
  },
  {
   "cell_type": "code",
   "execution_count": 59,
   "id": "0ac59a54",
   "metadata": {},
   "outputs": [
    {
     "data": {
      "text/plain": [
       "0.7702989490466019"
      ]
     },
     "execution_count": 59,
     "metadata": {},
     "output_type": "execute_result"
    }
   ],
   "source": [
    "p6 = sigmoid(1.210)\n",
    "p6"
   ]
  },
  {
   "cell_type": "code",
   "execution_count": 60,
   "id": "311bf935",
   "metadata": {},
   "outputs": [
    {
     "data": {
      "text/plain": [
       "-0.22999999999999998"
      ]
     },
     "execution_count": 60,
     "metadata": {},
     "output_type": "execute_result"
    }
   ],
   "source": [
    "g6 = 0.770 - 1\n",
    "g6"
   ]
  },
  {
   "cell_type": "code",
   "execution_count": 61,
   "id": "28692cbb",
   "metadata": {},
   "outputs": [
    {
     "data": {
      "text/plain": [
       "0.17709999999999998"
      ]
     },
     "execution_count": 61,
     "metadata": {},
     "output_type": "execute_result"
    }
   ],
   "source": [
    "h6 = 0.770 * (1 - 0.770)\n",
    "h6"
   ]
  },
  {
   "cell_type": "markdown",
   "id": "d65b336e",
   "metadata": {},
   "source": [
    "### Second Boosting Iteration"
   ]
  },
  {
   "cell_type": "code",
   "execution_count": 62,
   "id": "cd7bfe56",
   "metadata": {},
   "outputs": [],
   "source": [
    "g_root = [-0.213, -0.490, -0.213, 0.510, 0.510, -0.230]\n",
    "h_root = [0.168, 0.250, 0.168, 0.250, 0.250, 0.177]"
   ]
  },
  {
   "cell_type": "code",
   "execution_count": 63,
   "id": "dfc870ef",
   "metadata": {},
   "outputs": [
    {
     "data": {
      "text/plain": [
       "-0.12599999999999992"
      ]
     },
     "execution_count": 63,
     "metadata": {},
     "output_type": "execute_result"
    }
   ],
   "source": [
    "G = np.sum(g_root)\n",
    "G"
   ]
  },
  {
   "cell_type": "code",
   "execution_count": 64,
   "id": "e82cad07",
   "metadata": {},
   "outputs": [
    {
     "data": {
      "text/plain": [
       "1.2630000000000001"
      ]
     },
     "execution_count": 64,
     "metadata": {},
     "output_type": "execute_result"
    }
   ],
   "source": [
    "H = np.sum(h_root)\n",
    "H"
   ]
  },
  {
   "cell_type": "markdown",
   "id": "fb6defb1",
   "metadata": {},
   "source": [
    "Income = Low"
   ]
  },
  {
   "cell_type": "code",
   "execution_count": 65,
   "id": "fc000552",
   "metadata": {},
   "outputs": [
    {
     "name": "stdout",
     "output_type": "stream",
     "text": [
      "G_L = -0.193, H_L = 0.668\n",
      "G_R = 0.067, H_R = 0.595\n",
      "gain = 0.021656229616224494\n"
     ]
    }
   ],
   "source": [
    "g_left = [-0.213, -0.490, 0.510]\n",
    "h_left = [0.168, 0.250, 0.250]\n",
    "\n",
    "calc_gain(g_left, h_left, G, H)"
   ]
  },
  {
   "cell_type": "markdown",
   "id": "259bd4ab",
   "metadata": {},
   "source": [
    "Income = Medium"
   ]
  },
  {
   "cell_type": "code",
   "execution_count": 66,
   "id": "6272577d",
   "metadata": {},
   "outputs": [
    {
     "name": "stdout",
     "output_type": "stream",
     "text": [
      "G_L = 0.297, H_L = 0.418\n",
      "G_R = -0.423, H_R = 0.845\n",
      "gain = 0.17399133313693108\n"
     ]
    }
   ],
   "source": [
    "g_left = [-0.213, 0.510]\n",
    "h_left = [0.168, 0.250]\n",
    "\n",
    "calc_gain(g_left, h_left, G, H)"
   ]
  },
  {
   "cell_type": "markdown",
   "id": "bff509ee",
   "metadata": {},
   "source": [
    "Income = High"
   ]
  },
  {
   "cell_type": "code",
   "execution_count": 67,
   "id": "b78d30ba",
   "metadata": {},
   "outputs": [
    {
     "name": "stdout",
     "output_type": "stream",
     "text": [
      "G_L = -0.23, H_L = 0.177\n",
      "G_R = 0.104, H_R = 1.086\n",
      "gain = 0.09422331188536749\n"
     ]
    }
   ],
   "source": [
    "g_left = [-0.230]\n",
    "h_left = [0.177]\n",
    "\n",
    "calc_gain(g_left, h_left, G, H)"
   ]
  },
  {
   "cell_type": "markdown",
   "id": "cdbeca8c",
   "metadata": {},
   "source": [
    "Education = High School"
   ]
  },
  {
   "cell_type": "code",
   "execution_count": 68,
   "id": "529a638e",
   "metadata": {},
   "outputs": [
    {
     "name": "stdout",
     "output_type": "stream",
     "text": [
      "G_L = 0.297, H_L = 0.418\n",
      "G_R = -0.423, H_R = 0.845\n",
      "gain = 0.17399133313693108\n"
     ]
    }
   ],
   "source": [
    "g_left = [-0.213, 0.510]\n",
    "h_left = [0.168, 0.250]\n",
    "\n",
    "calc_gain(g_left, h_left, G, H)"
   ]
  },
  {
   "cell_type": "markdown",
   "id": "f4318dec",
   "metadata": {},
   "source": [
    "Age"
   ]
  },
  {
   "cell_type": "code",
   "execution_count": 69,
   "id": "a7449cde",
   "metadata": {},
   "outputs": [],
   "source": [
    "# Sorting gradients by age\n",
    "g = [-0.213, -0.213, 0.510, -0.490, 0.510, -0.230]\n",
    "h = [0.168, 0.168, 0.250, 0.250, 0.250, 0.177]"
   ]
  },
  {
   "cell_type": "markdown",
   "id": "b3d32123",
   "metadata": {},
   "source": [
    "Age < 23.5"
   ]
  },
  {
   "cell_type": "code",
   "execution_count": 70,
   "id": "eac350ea",
   "metadata": {},
   "outputs": [
    {
     "name": "stdout",
     "output_type": "stream",
     "text": [
      "G_L = -0.213, H_L = 0.168\n",
      "G_R = 0.087, H_R = 1.095\n",
      "gain = 0.0819866844947926\n"
     ]
    }
   ],
   "source": [
    "g_left = g[:1]\n",
    "h_left = h[:1]\n",
    "\n",
    "calc_gain(g_left, h_left, G, H)"
   ]
  },
  {
   "cell_type": "markdown",
   "id": "3b2eb0d0",
   "metadata": {},
   "source": [
    "Age < 26.5"
   ]
  },
  {
   "cell_type": "code",
   "execution_count": 71,
   "id": "86db1df1",
   "metadata": {},
   "outputs": [
    {
     "name": "stdout",
     "output_type": "stream",
     "text": [
      "G_L = -0.426, H_L = 0.336\n",
      "G_R = 0.3, H_R = 0.927\n",
      "gain = 0.24610770362188245\n"
     ]
    }
   ],
   "source": [
    "g_left = g[:2]\n",
    "h_left = h[:2]\n",
    "\n",
    "calc_gain(g_left, h_left, G, H)"
   ]
  },
  {
   "cell_type": "markdown",
   "id": "10ffc0c3",
   "metadata": {},
   "source": [
    "Age < 29"
   ]
  },
  {
   "cell_type": "code",
   "execution_count": 72,
   "id": "439615e4",
   "metadata": {},
   "outputs": [
    {
     "name": "stdout",
     "output_type": "stream",
     "text": [
      "G_L = 0.084, H_L = 0.586\n",
      "G_R = -0.21, H_R = 0.677\n",
      "gain = 0.02769731769291564\n"
     ]
    }
   ],
   "source": [
    "g_left = g[:3]\n",
    "h_left = h[:3]\n",
    "\n",
    "calc_gain(g_left, h_left, G, H)"
   ]
  },
  {
   "cell_type": "markdown",
   "id": "d2f75f4f",
   "metadata": {},
   "source": [
    "Age < 32.5"
   ]
  },
  {
   "cell_type": "code",
   "execution_count": 73,
   "id": "fadecc23",
   "metadata": {},
   "outputs": [
    {
     "name": "stdout",
     "output_type": "stream",
     "text": [
      "G_L = -0.406, H_L = 0.836\n",
      "G_R = 0.28, H_R = 0.427\n",
      "gain = 0.15661280268287883\n"
     ]
    }
   ],
   "source": [
    "g_left = g[:4]\n",
    "h_left = h[:4]\n",
    "\n",
    "calc_gain(g_left, h_left, G, H)"
   ]
  },
  {
   "cell_type": "markdown",
   "id": "2aa2363e",
   "metadata": {},
   "source": [
    "Age < 37.5"
   ]
  },
  {
   "cell_type": "code",
   "execution_count": 74,
   "id": "4a9a8a37",
   "metadata": {},
   "outputs": [
    {
     "name": "stdout",
     "output_type": "stream",
     "text": [
      "G_L = 0.104, H_L = 1.086\n",
      "G_R = -0.23, H_R = 0.177\n",
      "gain = 0.09422331188536749\n"
     ]
    }
   ],
   "source": [
    "g_left = g[:5]\n",
    "h_left = h[:5]\n",
    "\n",
    "calc_gain(g_left, h_left, G, H)"
   ]
  },
  {
   "cell_type": "markdown",
   "id": "6dec7057",
   "metadata": {},
   "source": [
    "Splitting by Age < 26.5"
   ]
  },
  {
   "cell_type": "markdown",
   "id": "3ca9a50c",
   "metadata": {},
   "source": [
    "#### Second level of the tree"
   ]
  },
  {
   "cell_type": "markdown",
   "id": "2af25d84",
   "metadata": {},
   "source": [
    "Right child node"
   ]
  },
  {
   "cell_type": "code",
   "execution_count": 75,
   "id": "aa12989f",
   "metadata": {},
   "outputs": [],
   "source": [
    "g_root = [-0.490, 0.510, 0.510, -0.230]\n",
    "h_root = [0.250, 0.250, 0.250, 0.177]"
   ]
  },
  {
   "cell_type": "code",
   "execution_count": 76,
   "id": "32afc9e2",
   "metadata": {},
   "outputs": [
    {
     "data": {
      "text/plain": [
       "0.30000000000000004"
      ]
     },
     "execution_count": 76,
     "metadata": {},
     "output_type": "execute_result"
    }
   ],
   "source": [
    "G = np.sum(g_root)\n",
    "G"
   ]
  },
  {
   "cell_type": "code",
   "execution_count": 77,
   "id": "110062c2",
   "metadata": {},
   "outputs": [
    {
     "data": {
      "text/plain": [
       "0.927"
      ]
     },
     "execution_count": 77,
     "metadata": {},
     "output_type": "execute_result"
    }
   ],
   "source": [
    "H = np.sum(h_root)\n",
    "H"
   ]
  },
  {
   "cell_type": "markdown",
   "id": "7393ea4d",
   "metadata": {},
   "source": [
    "Income = Low"
   ]
  },
  {
   "cell_type": "code",
   "execution_count": 78,
   "id": "54a05bc2",
   "metadata": {},
   "outputs": [
    {
     "name": "stdout",
     "output_type": "stream",
     "text": [
      "G_L = 0.02, H_L = 0.5\n",
      "G_R = 0.28, H_R = 0.427\n",
      "gain = 0.030899692489993455\n"
     ]
    }
   ],
   "source": [
    "g_left = [-0.490, 0.510]\n",
    "h_left = [0.250, 0.250]\n",
    "\n",
    "calc_gain(g_left, h_left, G, H)"
   ]
  },
  {
   "cell_type": "markdown",
   "id": "6a1a54c2",
   "metadata": {},
   "source": [
    "Income = Medium"
   ]
  },
  {
   "cell_type": "code",
   "execution_count": 79,
   "id": "2e67ce8e",
   "metadata": {},
   "outputs": [
    {
     "name": "stdout",
     "output_type": "stream",
     "text": [
      "G_L = 0.51, H_L = 0.25\n",
      "G_R = -0.21, H_R = 0.677\n",
      "gain = 0.3561328643986872\n"
     ]
    }
   ],
   "source": [
    "g_left = [0.510]\n",
    "h_left = [0.250]\n",
    "\n",
    "calc_gain(g_left, h_left, G, H)"
   ]
  },
  {
   "cell_type": "markdown",
   "id": "b7fc1282",
   "metadata": {},
   "source": [
    "Income = High"
   ]
  },
  {
   "cell_type": "code",
   "execution_count": 80,
   "id": "47340461",
   "metadata": {},
   "outputs": [
    {
     "name": "stdout",
     "output_type": "stream",
     "text": [
      "G_L = -0.23, H_L = 0.177\n",
      "G_R = 0.53, H_R = 0.75\n",
      "gain = 0.2169057161874659\n"
     ]
    }
   ],
   "source": [
    "g_left = [-0.230]\n",
    "h_left = [0.177]\n",
    "\n",
    "calc_gain(g_left, h_left, G, H)"
   ]
  },
  {
   "cell_type": "markdown",
   "id": "b236bc0d",
   "metadata": {},
   "source": [
    "Education = High School"
   ]
  },
  {
   "cell_type": "code",
   "execution_count": 81,
   "id": "15988e99",
   "metadata": {},
   "outputs": [
    {
     "name": "stdout",
     "output_type": "stream",
     "text": [
      "G_L = 0.51, H_L = 0.25\n",
      "G_R = -0.21, H_R = 0.677\n",
      "gain = 0.3561328643986872\n"
     ]
    }
   ],
   "source": [
    "g_left = [0.510]\n",
    "h_left = [0.250]\n",
    "\n",
    "calc_gain(g_left, h_left, G, H)"
   ]
  },
  {
   "cell_type": "markdown",
   "id": "b7caf473",
   "metadata": {},
   "source": [
    "Age"
   ]
  },
  {
   "cell_type": "code",
   "execution_count": 82,
   "id": "e95773a4",
   "metadata": {},
   "outputs": [],
   "source": [
    "# Sorting gradients by age\n",
    "g = [0.510, -0.490, 0.510, -0.230]\n",
    "h = [0.250, 0.250, 0.250, 0.177]"
   ]
  },
  {
   "cell_type": "markdown",
   "id": "515155c9",
   "metadata": {},
   "source": [
    "Age < 29"
   ]
  },
  {
   "cell_type": "code",
   "execution_count": 83,
   "id": "c08d62a7",
   "metadata": {},
   "outputs": [
    {
     "name": "stdout",
     "output_type": "stream",
     "text": [
      "G_L = 0.51, H_L = 0.25\n",
      "G_R = -0.21, H_R = 0.677\n",
      "gain = 0.3561328643986872\n"
     ]
    }
   ],
   "source": [
    "g_left = g[:1]\n",
    "h_left = h[:1]\n",
    "\n",
    "calc_gain(g_left, h_left, G, H)"
   ]
  },
  {
   "cell_type": "markdown",
   "id": "100911ec",
   "metadata": {},
   "source": [
    "Age < 32.5"
   ]
  },
  {
   "cell_type": "code",
   "execution_count": 84,
   "id": "66d736fc",
   "metadata": {},
   "outputs": [
    {
     "name": "stdout",
     "output_type": "stream",
     "text": [
      "G_L = 0.02, H_L = 0.5\n",
      "G_R = 0.28, H_R = 0.427\n",
      "gain = 0.030899692489993455\n"
     ]
    }
   ],
   "source": [
    "g_left = g[:2]\n",
    "h_left = h[:2]\n",
    "\n",
    "calc_gain(g_left, h_left, G, H)"
   ]
  },
  {
   "cell_type": "markdown",
   "id": "990e6764",
   "metadata": {},
   "source": [
    "Age < 37.5"
   ]
  },
  {
   "cell_type": "code",
   "execution_count": 85,
   "id": "2827f0d8",
   "metadata": {},
   "outputs": [
    {
     "name": "stdout",
     "output_type": "stream",
     "text": [
      "G_L = 0.53, H_L = 0.75\n",
      "G_R = -0.23, H_R = 0.177\n",
      "gain = 0.2169057161874659\n"
     ]
    }
   ],
   "source": [
    "g_left = g[:3]\n",
    "h_left = h[:3]\n",
    "\n",
    "calc_gain(g_left, h_left, G, H)"
   ]
  },
  {
   "cell_type": "markdown",
   "id": "9b2ac519",
   "metadata": {},
   "source": [
    "Splitting by Education = High School"
   ]
  },
  {
   "cell_type": "markdown",
   "id": "50d38196",
   "metadata": {},
   "source": [
    "Computing output values"
   ]
  },
  {
   "cell_type": "code",
   "execution_count": 86,
   "id": "a56cba6f",
   "metadata": {},
   "outputs": [
    {
     "data": {
      "text/plain": [
       "1.1225296442687747"
      ]
     },
     "execution_count": 86,
     "metadata": {},
     "output_type": "execute_result"
    }
   ],
   "source": [
    "w1 = -(-0.568) / (0.406 + 0.1)\n",
    "w1"
   ]
  },
  {
   "cell_type": "code",
   "execution_count": 87,
   "id": "2aa6ae6e",
   "metadata": {},
   "outputs": [
    {
     "data": {
      "text/plain": [
       "-1.4571428571428573"
      ]
     },
     "execution_count": 87,
     "metadata": {},
     "output_type": "execute_result"
    }
   ],
   "source": [
    "w2 = -0.510 / (0.250 + 0.1)\n",
    "w2"
   ]
  },
  {
   "cell_type": "code",
   "execution_count": 88,
   "id": "133d7f34",
   "metadata": {},
   "outputs": [
    {
     "data": {
      "text/plain": [
       "0.27027027027027023"
      ]
     },
     "execution_count": 88,
     "metadata": {},
     "output_type": "execute_result"
    }
   ],
   "source": [
    "w3 = -(-0.210) / (0.677 + 0.1)\n",
    "w3"
   ]
  },
  {
   "cell_type": "markdown",
   "id": "f448db21",
   "metadata": {},
   "source": [
    "Updating the model's predictions"
   ]
  },
  {
   "cell_type": "code",
   "execution_count": 89,
   "id": "b7d73c51",
   "metadata": {},
   "outputs": [
    {
     "data": {
      "text/plain": [
       "1.8664999999999998"
      ]
     },
     "execution_count": 89,
     "metadata": {},
     "output_type": "execute_result"
    }
   ],
   "source": [
    "F1 = 1.305 + 0.5 * 1.123\n",
    "F1"
   ]
  },
  {
   "cell_type": "code",
   "execution_count": 90,
   "id": "84e6c5da",
   "metadata": {},
   "outputs": [
    {
     "data": {
      "text/plain": [
       "0.86611077069459"
      ]
     },
     "execution_count": 90,
     "metadata": {},
     "output_type": "execute_result"
    }
   ],
   "source": [
    "p1 = sigmoid(1.867)\n",
    "p1"
   ]
  },
  {
   "cell_type": "code",
   "execution_count": 91,
   "id": "1cc78704",
   "metadata": {},
   "outputs": [
    {
     "data": {
      "text/plain": [
       "0.17400000000000002"
      ]
     },
     "execution_count": 91,
     "metadata": {},
     "output_type": "execute_result"
    }
   ],
   "source": [
    "F2 = 0.039 + 0.5 * 0.27\n",
    "F2"
   ]
  },
  {
   "cell_type": "code",
   "execution_count": 92,
   "id": "c99b6d3c",
   "metadata": {},
   "outputs": [
    {
     "data": {
      "text/plain": [
       "0.5433905807657374"
      ]
     },
     "execution_count": 92,
     "metadata": {},
     "output_type": "execute_result"
    }
   ],
   "source": [
    "p3 = sigmoid(0.174)\n",
    "p3"
   ]
  },
  {
   "cell_type": "code",
   "execution_count": 93,
   "id": "f450c3f3",
   "metadata": {},
   "outputs": [
    {
     "data": {
      "text/plain": [
       "1.8664999999999998"
      ]
     },
     "execution_count": 93,
     "metadata": {},
     "output_type": "execute_result"
    }
   ],
   "source": [
    "F3 = 1.305 + 0.5 * 1.123\n",
    "F3 "
   ]
  },
  {
   "cell_type": "code",
   "execution_count": 94,
   "id": "ae3f943a",
   "metadata": {},
   "outputs": [
    {
     "data": {
      "text/plain": [
       "0.86611077069459"
      ]
     },
     "execution_count": 94,
     "metadata": {},
     "output_type": "execute_result"
    }
   ],
   "source": [
    "p3 = sigmoid(1.867)\n",
    "p3"
   ]
  },
  {
   "cell_type": "code",
   "execution_count": 95,
   "id": "80a68374",
   "metadata": {},
   "outputs": [
    {
     "data": {
      "text/plain": [
       "-0.6895"
      ]
     },
     "execution_count": 95,
     "metadata": {},
     "output_type": "execute_result"
    }
   ],
   "source": [
    "F4 = 0.039 + 0.5 * (-1.457)\n",
    "F4"
   ]
  },
  {
   "cell_type": "code",
   "execution_count": 96,
   "id": "2e41ae08",
   "metadata": {},
   "outputs": [
    {
     "data": {
      "text/plain": [
       "0.33425556513515803"
      ]
     },
     "execution_count": 96,
     "metadata": {},
     "output_type": "execute_result"
    }
   ],
   "source": [
    "p4 = sigmoid(-0.689)\n",
    "p4"
   ]
  },
  {
   "cell_type": "code",
   "execution_count": 97,
   "id": "3846308c",
   "metadata": {},
   "outputs": [
    {
     "data": {
      "text/plain": [
       "0.17400000000000002"
      ]
     },
     "execution_count": 97,
     "metadata": {},
     "output_type": "execute_result"
    }
   ],
   "source": [
    "F5 = 0.039 + 0.5 * 0.27\n",
    "F5"
   ]
  },
  {
   "cell_type": "code",
   "execution_count": 98,
   "id": "76728d3a",
   "metadata": {},
   "outputs": [
    {
     "data": {
      "text/plain": [
       "0.5433905807657374"
      ]
     },
     "execution_count": 98,
     "metadata": {},
     "output_type": "execute_result"
    }
   ],
   "source": [
    "p5 = sigmoid(0.174)\n",
    "p5"
   ]
  },
  {
   "cell_type": "code",
   "execution_count": 99,
   "id": "12e0d28d",
   "metadata": {},
   "outputs": [
    {
     "data": {
      "text/plain": [
       "1.345"
      ]
     },
     "execution_count": 99,
     "metadata": {},
     "output_type": "execute_result"
    }
   ],
   "source": [
    "F6 = 1.210 + 0.5 * 0.27\n",
    "F6"
   ]
  },
  {
   "cell_type": "code",
   "execution_count": 100,
   "id": "a4f7f4e2",
   "metadata": {},
   "outputs": [
    {
     "data": {
      "text/plain": [
       "0.7933109871625582"
      ]
     },
     "execution_count": 100,
     "metadata": {},
     "output_type": "execute_result"
    }
   ],
   "source": [
    "p6 = sigmoid(1.345)\n",
    "p6"
   ]
  },
  {
   "cell_type": "code",
   "execution_count": null,
   "id": "b032d065",
   "metadata": {},
   "outputs": [],
   "source": []
  }
 ],
 "metadata": {
  "kernelspec": {
   "display_name": "Python 3 (ipykernel)",
   "language": "python",
   "name": "python3"
  },
  "language_info": {
   "codemirror_mode": {
    "name": "ipython",
    "version": 3
   },
   "file_extension": ".py",
   "mimetype": "text/x-python",
   "name": "python",
   "nbconvert_exporter": "python",
   "pygments_lexer": "ipython3",
   "version": "3.11.5"
  }
 },
 "nbformat": 4,
 "nbformat_minor": 5
}
