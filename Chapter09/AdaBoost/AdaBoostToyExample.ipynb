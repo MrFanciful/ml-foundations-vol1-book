{
 "cells": [
  {
   "cell_type": "code",
   "execution_count": 1,
   "id": "dcd4844f",
   "metadata": {},
   "outputs": [],
   "source": [
    "# Author: Roi Yehoshua <roiyeho@gmail.com>\n",
    "# License: MIT\n",
    "# July 2024"
   ]
  },
  {
   "cell_type": "code",
   "execution_count": 2,
   "id": "dd8fe649",
   "metadata": {},
   "outputs": [],
   "source": [
    "import numpy as np\n",
    "import matplotlib.pyplot as plt"
   ]
  },
  {
   "cell_type": "code",
   "execution_count": 3,
   "id": "67c8c08f",
   "metadata": {},
   "outputs": [],
   "source": [
    "def plot_samples(x1, x2, y, D):\n",
    "    plt.figure(figsize=(6, 4))\n",
    "    plt.scatter(x1[y == 1], x2[y == 1], marker='+', c='blue', s=D[y == 1] * 2000)\n",
    "    plt.scatter(x1[y == -1], x2[y == -1], marker='_', c='red', s=D[y == -1] * 2000)\n",
    "    plt.xlabel('$x_1$')\n",
    "    plt.ylabel('$x_2$')"
   ]
  },
  {
   "cell_type": "code",
   "execution_count": 4,
   "id": "20018d17",
   "metadata": {},
   "outputs": [
    {
     "data": {
      "image/png": "[encoded data removed]",
      "text/plain": [
       "<Figure size 600x400 with 1 Axes>"
      ]
     },
     "metadata": {},
     "output_type": "display_data"
    }
   ],
   "source": [
    "x1 = np.array([1, 1.5, 2, 2.5, 3, 3.5, 4, 4.5, 5, 5.5])\n",
    "x2 = np.array([4, 2, 1, 4.5, 6, 4, 3, 7, 5.5, 1.5])\n",
    "y = np.array([1, 1, -1, -1, 1, -1, -1, 1, 1, -1])\n",
    "D1 = np.ones(10) / 10\n",
    "\n",
    "plot_samples(x1, x2, y, D1)\n",
    "plt.savefig('figures/adaboost_round1.pdf', bbox_inches='tight')"
   ]
  },
  {
   "cell_type": "code",
   "execution_count": 5,
   "id": "5484010a",
   "metadata": {},
   "outputs": [],
   "source": [
    "def update_distribution(D, alpha, incorrect_samples):\n",
    "    next_D = np.ones(len(D))\n",
    "    for i in range(len(next_D)):\n",
    "        if i in incorrect_samples:\n",
    "            next_D[i] = D[i] * np.exp(alpha)\n",
    "        else:\n",
    "            next_D[i] = D[i] * np.exp(-alpha)\n",
    "    next_D /= np.sum(next_D)    \n",
    "    return next_D"
   ]
  },
  {
   "cell_type": "markdown",
   "id": "51c80223",
   "metadata": {},
   "source": [
    "First round"
   ]
  },
  {
   "cell_type": "code",
   "execution_count": 6,
   "id": "27243681",
   "metadata": {},
   "outputs": [
    {
     "data": {
      "text/plain": [
       "0.6931471805599453"
      ]
     },
     "execution_count": 6,
     "metadata": {},
     "output_type": "execute_result"
    }
   ],
   "source": [
    "# h1 = (x2 >= 5)\n",
    "incorrect = [0, 1]\n",
    "e1 = 0.2\n",
    "alpha1 = 0.5 * np.log((1 - e1) / e1)\n",
    "alpha1"
   ]
  },
  {
   "cell_type": "code",
   "execution_count": 7,
   "id": "5f3d265e",
   "metadata": {},
   "outputs": [
    {
     "data": {
      "text/plain": [
       "0.1999705660541164"
      ]
     },
     "execution_count": 7,
     "metadata": {},
     "output_type": "execute_result"
    }
   ],
   "source": [
    "0.1 * np.exp(0.693)"
   ]
  },
  {
   "cell_type": "code",
   "execution_count": 8,
   "id": "47c797dc",
   "metadata": {},
   "outputs": [
    {
     "data": {
      "text/plain": [
       "0.050007359569576776"
      ]
     },
     "execution_count": 8,
     "metadata": {},
     "output_type": "execute_result"
    }
   ],
   "source": [
    "0.1 * np.exp(-0.693)"
   ]
  },
  {
   "cell_type": "code",
   "execution_count": 9,
   "id": "8b922c4d",
   "metadata": {},
   "outputs": [
    {
     "data": {
      "text/plain": [
       "0.8"
      ]
     },
     "execution_count": 9,
     "metadata": {},
     "output_type": "execute_result"
    }
   ],
   "source": [
    "Z1 = 2 * 0.2 + 8 * 0.05\n",
    "Z1"
   ]
  },
  {
   "cell_type": "code",
   "execution_count": 10,
   "id": "2facab06",
   "metadata": {},
   "outputs": [
    {
     "data": {
      "text/plain": [
       "0.25"
      ]
     },
     "execution_count": 10,
     "metadata": {},
     "output_type": "execute_result"
    }
   ],
   "source": [
    "0.2 / 0.8"
   ]
  },
  {
   "cell_type": "code",
   "execution_count": 11,
   "id": "d46a7985",
   "metadata": {},
   "outputs": [
    {
     "data": {
      "text/plain": [
       "0.0625"
      ]
     },
     "execution_count": 11,
     "metadata": {},
     "output_type": "execute_result"
    }
   ],
   "source": [
    "0.05 / 0.8"
   ]
  },
  {
   "cell_type": "code",
   "execution_count": 12,
   "id": "5dc8a00b",
   "metadata": {},
   "outputs": [
    {
     "data": {
      "text/plain": [
       "array([0.25  , 0.25  , 0.0625, 0.0625, 0.0625, 0.0625, 0.0625, 0.0625,\n",
       "       0.0625, 0.0625])"
      ]
     },
     "execution_count": 12,
     "metadata": {},
     "output_type": "execute_result"
    }
   ],
   "source": [
    "D2 = update_distribution(D1, alpha1, incorrect)\n",
    "D2"
   ]
  },
  {
   "cell_type": "code",
   "execution_count": 13,
   "id": "8fc60152",
   "metadata": {},
   "outputs": [
    {
     "data": {
      "image/png": "[encoded data removed]",
      "text/plain": [
       "<Figure size 600x400 with 1 Axes>"
      ]
     },
     "metadata": {},
     "output_type": "display_data"
    }
   ],
   "source": [
    "plot_samples(x1, x2, y, D2)\n",
    "plt.savefig('figures/adaboost_round2.pdf', bbox_inches='tight')"
   ]
  },
  {
   "cell_type": "markdown",
   "id": "c546ace0",
   "metadata": {},
   "source": [
    "Second round"
   ]
  },
  {
   "cell_type": "code",
   "execution_count": 14,
   "id": "f431d395",
   "metadata": {},
   "outputs": [
    {
     "data": {
      "text/plain": [
       "0.1875"
      ]
     },
     "execution_count": 14,
     "metadata": {},
     "output_type": "execute_result"
    }
   ],
   "source": [
    "# h2 = (x1 <= 1.5)\n",
    "incorrect = [4, 7, 8]\n",
    "e2 = np.sum(D2[incorrect])\n",
    "e2"
   ]
  },
  {
   "cell_type": "code",
   "execution_count": 15,
   "id": "f6660358",
   "metadata": {},
   "outputs": [
    {
     "data": {
      "text/plain": [
       "0.7331685343967135"
      ]
     },
     "execution_count": 15,
     "metadata": {},
     "output_type": "execute_result"
    }
   ],
   "source": [
    "alpha2 = 0.5 * np.log((1 - e2) / e2)\n",
    "alpha2"
   ]
  },
  {
   "cell_type": "code",
   "execution_count": 16,
   "id": "d9fb6608",
   "metadata": {},
   "outputs": [
    {
     "data": {
      "text/plain": [
       "0.13008219979404687"
      ]
     },
     "execution_count": 16,
     "metadata": {},
     "output_type": "execute_result"
    }
   ],
   "source": [
    "0.0625 * np.exp(0.733)"
   ]
  },
  {
   "cell_type": "code",
   "execution_count": 17,
   "id": "09b4cc30",
   "metadata": {},
   "outputs": [
    {
     "data": {
      "text/plain": [
       "0.12011635738585556"
      ]
     },
     "execution_count": 17,
     "metadata": {},
     "output_type": "execute_result"
    }
   ],
   "source": [
    "0.25 * np.exp(-0.733)"
   ]
  },
  {
   "cell_type": "code",
   "execution_count": 18,
   "id": "13e36ddc",
   "metadata": {},
   "outputs": [
    {
     "data": {
      "text/plain": [
       "0.03002908934646389"
      ]
     },
     "execution_count": 18,
     "metadata": {},
     "output_type": "execute_result"
    }
   ],
   "source": [
    "0.0625 * np.exp(-0.733)"
   ]
  },
  {
   "cell_type": "code",
   "execution_count": 19,
   "id": "e2c4010a",
   "metadata": {},
   "outputs": [
    {
     "data": {
      "text/plain": [
       "0.78"
      ]
     },
     "execution_count": 19,
     "metadata": {},
     "output_type": "execute_result"
    }
   ],
   "source": [
    "3 * 0.13 + 2 * 0.12 + 5 * 0.03"
   ]
  },
  {
   "cell_type": "code",
   "execution_count": 20,
   "id": "9db092c5",
   "metadata": {},
   "outputs": [
    {
     "data": {
      "text/plain": [
       "0.16666666666666666"
      ]
     },
     "execution_count": 20,
     "metadata": {},
     "output_type": "execute_result"
    }
   ],
   "source": [
    "0.13 / 0.78"
   ]
  },
  {
   "cell_type": "code",
   "execution_count": 21,
   "id": "87a9c884",
   "metadata": {},
   "outputs": [
    {
     "data": {
      "text/plain": [
       "0.15384615384615383"
      ]
     },
     "execution_count": 21,
     "metadata": {},
     "output_type": "execute_result"
    }
   ],
   "source": [
    "0.12 / 0.78"
   ]
  },
  {
   "cell_type": "code",
   "execution_count": 22,
   "id": "ede54e25",
   "metadata": {},
   "outputs": [
    {
     "data": {
      "text/plain": [
       "0.03846153846153846"
      ]
     },
     "execution_count": 22,
     "metadata": {},
     "output_type": "execute_result"
    }
   ],
   "source": [
    "0.03 / 0.78"
   ]
  },
  {
   "cell_type": "code",
   "execution_count": 23,
   "id": "0fda891c",
   "metadata": {},
   "outputs": [
    {
     "data": {
      "text/plain": [
       "array([0.15384615, 0.15384615, 0.03846154, 0.03846154, 0.16666667,\n",
       "       0.03846154, 0.03846154, 0.16666667, 0.16666667, 0.03846154])"
      ]
     },
     "execution_count": 23,
     "metadata": {},
     "output_type": "execute_result"
    }
   ],
   "source": [
    "D3 = update_distribution(D2, alpha2, incorrect)\n",
    "D3"
   ]
  },
  {
   "cell_type": "code",
   "execution_count": 24,
   "id": "a9728830",
   "metadata": {},
   "outputs": [
    {
     "data": {
      "image/png": "[encoded data removed]",
      "text/plain": [
       "<Figure size 600x400 with 1 Axes>"
      ]
     },
     "metadata": {},
     "output_type": "display_data"
    }
   ],
   "source": [
    "plot_samples(x1, x2, y, D3)\n",
    "plt.savefig('figures/adaboost_round3.pdf', bbox_inches='tight')"
   ]
  },
  {
   "cell_type": "markdown",
   "id": "db743799",
   "metadata": {},
   "source": [
    "Third round"
   ]
  },
  {
   "cell_type": "code",
   "execution_count": 25,
   "id": "249420f3",
   "metadata": {},
   "outputs": [
    {
     "data": {
      "text/plain": [
       "0.11538461538461542"
      ]
     },
     "execution_count": 25,
     "metadata": {},
     "output_type": "execute_result"
    }
   ],
   "source": [
    "# h3 = (x1 <= 5)\n",
    "incorrect = [3, 5, 6]\n",
    "e3 = np.sum(D3[incorrect])\n",
    "e3"
   ]
  },
  {
   "cell_type": "code",
   "execution_count": 26,
   "id": "1d06a0af",
   "metadata": {},
   "outputs": [
    {
     "data": {
      "text/plain": [
       "0.11399999999999999"
      ]
     },
     "execution_count": 26,
     "metadata": {},
     "output_type": "execute_result"
    }
   ],
   "source": [
    "e3 = 3 * 0.038\n",
    "e3"
   ]
  },
  {
   "cell_type": "code",
   "execution_count": 27,
   "id": "be550a43",
   "metadata": {},
   "outputs": [
    {
     "data": {
      "text/plain": [
       "1.0252592511052927"
      ]
     },
     "execution_count": 27,
     "metadata": {},
     "output_type": "execute_result"
    }
   ],
   "source": [
    "alpha3 = 0.5 * np.log((1 - e3) / e3)\n",
    "alpha3"
   ]
  },
  {
   "cell_type": "markdown",
   "id": "d7e2722e-3d90-460c-a777-412b1a209cba",
   "metadata": {},
   "source": [
    "Final prediction"
   ]
  },
  {
   "cell_type": "code",
   "execution_count": 28,
   "id": "ea4f81ec",
   "metadata": {},
   "outputs": [
    {
     "data": {
      "text/plain": [
       "1.065280604942061"
      ]
     },
     "execution_count": 28,
     "metadata": {},
     "output_type": "execute_result"
    }
   ],
   "source": [
    "-alpha1 + alpha2 + alpha3"
   ]
  },
  {
   "cell_type": "code",
   "execution_count": 29,
   "id": "6a982e42",
   "metadata": {},
   "outputs": [
    {
     "data": {
      "text/plain": [
       "-2.4515749660619512"
      ]
     },
     "execution_count": 29,
     "metadata": {},
     "output_type": "execute_result"
    }
   ],
   "source": [
    "-alpha1 - alpha2 - alpha3"
   ]
  },
  {
   "cell_type": "code",
   "execution_count": 30,
   "id": "20577494",
   "metadata": {},
   "outputs": [
    {
     "data": {
      "text/plain": [
       "-0.40105646385136606"
      ]
     },
     "execution_count": 30,
     "metadata": {},
     "output_type": "execute_result"
    }
   ],
   "source": [
    "-alpha1 - alpha2 + alpha3"
   ]
  },
  {
   "cell_type": "code",
   "execution_count": 31,
   "id": "7da3682e",
   "metadata": {},
   "outputs": [
    {
     "data": {
      "text/plain": [
       "0.9852378972685245"
      ]
     },
     "execution_count": 31,
     "metadata": {},
     "output_type": "execute_result"
    }
   ],
   "source": [
    "alpha1 - alpha2 + alpha3"
   ]
  },
  {
   "cell_type": "code",
   "execution_count": null,
   "id": "688c4398",
   "metadata": {},
   "outputs": [],
   "source": []
  }
 ],
 "metadata": {
  "kernelspec": {
   "display_name": "Python 3 (ipykernel)",
   "language": "python",
   "name": "python3"
  },
  "language_info": {
   "codemirror_mode": {
    "name": "ipython",
    "version": 3
   },
   "file_extension": ".py",
   "mimetype": "text/x-python",
   "name": "python",
   "nbconvert_exporter": "python",
   "pygments_lexer": "ipython3",
   "version": "3.11.5"
  }
 },
 "nbformat": 4,
 "nbformat_minor": 5
}
