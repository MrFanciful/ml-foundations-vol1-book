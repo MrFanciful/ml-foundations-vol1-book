{
 "cells": [
  {
   "cell_type": "code",
   "execution_count": 1,
   "id": "08449651",
   "metadata": {},
   "outputs": [],
   "source": [
    "# Author: Roi Yehoshua <roiyeho@gmail.com>\n",
    "# Date: January 2024\n",
    "# License: MIT"
   ]
  },
  {
   "cell_type": "code",
   "execution_count": 2,
   "id": "fa17f787",
   "metadata": {},
   "outputs": [],
   "source": [
    "import numpy as np\n",
    "import pandas as pd\n",
    "import matplotlib.pyplot as plt\n",
    "import seaborn as sns\n",
    "\n",
    "from sklearn.preprocessing import StandardScaler\n",
    "from sklearn.linear_model import LogisticRegression\n",
    "\n",
    "np.random.seed(42)"
   ]
  },
  {
   "cell_type": "code",
   "execution_count": 3,
   "id": "ffa9911f",
   "metadata": {},
   "outputs": [],
   "source": [
    "from sklearn.datasets import load_iris\n",
    "\n",
    "X, y = load_iris(as_frame=True, return_X_y=True)"
   ]
  },
  {
   "cell_type": "code",
   "execution_count": 4,
   "id": "f996c577",
   "metadata": {},
   "outputs": [],
   "source": [
    "from sklearn.model_selection import train_test_split\n",
    "\n",
    "X_train, X_test, y_train, y_test = train_test_split(X, y, random_state=42, stratify=y)"
   ]
  },
  {
   "cell_type": "markdown",
   "id": "02e129d8",
   "metadata": {},
   "source": [
    "Defining a pipeline"
   ]
  },
  {
   "cell_type": "code",
   "execution_count": 5,
   "id": "6e7ab684",
   "metadata": {},
   "outputs": [],
   "source": [
    "from sklearn.pipeline import Pipeline\n",
    "\n",
    "model = Pipeline([    \n",
    "    ('scaler', StandardScaler()),\n",
    "    ('clf', LogisticRegression())\n",
    "])"
   ]
  },
  {
   "cell_type": "markdown",
   "id": "bb69eae0",
   "metadata": {},
   "source": [
    "Using the pipeline"
   ]
  },
  {
   "cell_type": "code",
   "execution_count": 6,
   "id": "c5f3309b",
   "metadata": {},
   "outputs": [
    {
     "data": {
      "text/plain": [
       "Pipeline(steps=[('scaler', StandardScaler()), ('clf', LogisticRegression())])"
      ]
     },
     "execution_count": 6,
     "metadata": {},
     "output_type": "execute_result"
    }
   ],
   "source": [
    "model.fit(X_train, y_train)"
   ]
  },
  {
   "cell_type": "code",
   "execution_count": 7,
   "id": "bf7a1778",
   "metadata": {},
   "outputs": [
    {
     "name": "stdout",
     "output_type": "stream",
     "text": [
      "Train accuracy: 0.9732\n",
      "Test accuracy: 0.9211\n"
     ]
    }
   ],
   "source": [
    "train_accuracy = model.score(X_train, y_train)\n",
    "print(f'Train accuracy: {train_accuracy:.4f}')\n",
    "\n",
    "test_accuracy = model.score(X_test, y_test)\n",
    "print(f'Test accuracy: {test_accuracy:.4f}')"
   ]
  },
  {
   "cell_type": "code",
   "execution_count": 8,
   "id": "bde2349c",
   "metadata": {},
   "outputs": [
    {
     "name": "stdout",
     "output_type": "stream",
     "text": [
      "[1]\n"
     ]
    },
    {
     "name": "stderr",
     "output_type": "stream",
     "text": [
      "C:\\Users\\roi_y\\anaconda3\\lib\\site-packages\\sklearn\\base.py:450: UserWarning: X does not have valid feature names, but StandardScaler was fitted with feature names\n",
      "  warnings.warn(\n"
     ]
    }
   ],
   "source": [
    "y_pred = model.predict([X_test.iloc[5]])\n",
    "print(y_pred)"
   ]
  },
  {
   "cell_type": "markdown",
   "id": "504750ee",
   "metadata": {},
   "source": [
    "Modfiying steps in the pipeline"
   ]
  },
  {
   "cell_type": "code",
   "execution_count": 9,
   "id": "aafbd610",
   "metadata": {},
   "outputs": [
    {
     "data": {
      "text/plain": [
       "('clf', LogisticRegression())"
      ]
     },
     "execution_count": 9,
     "metadata": {},
     "output_type": "execute_result"
    }
   ],
   "source": [
    "# Accessing by index\n",
    "model.steps[1]"
   ]
  },
  {
   "cell_type": "code",
   "execution_count": 10,
   "id": "7845fdc5",
   "metadata": {},
   "outputs": [
    {
     "data": {
      "text/plain": [
       "LogisticRegression()"
      ]
     },
     "execution_count": 10,
     "metadata": {},
     "output_type": "execute_result"
    }
   ],
   "source": [
    "# Accessing by name\n",
    "model.named_steps['clf']"
   ]
  },
  {
   "cell_type": "code",
   "execution_count": 11,
   "id": "caa36c30",
   "metadata": {},
   "outputs": [
    {
     "data": {
      "text/plain": [
       "Pipeline(steps=[('scaler', StandardScaler()),\n",
       "                ('clf', LogisticRegression(penalty='l1'))])"
      ]
     },
     "execution_count": 11,
     "metadata": {},
     "output_type": "execute_result"
    }
   ],
   "source": [
    "model.set_params(clf__penalty='l1')"
   ]
  },
  {
   "cell_type": "code",
   "execution_count": 12,
   "id": "48b97085",
   "metadata": {},
   "outputs": [
    {
     "name": "stdout",
     "output_type": "stream",
     "text": [
      "Pipeline(steps=[('scaler', StandardScaler()),\n",
      "                ('clf', LogisticRegression(penalty='l1'))])\n"
     ]
    }
   ],
   "source": [
    "print(model)"
   ]
  },
  {
   "cell_type": "code",
   "execution_count": 13,
   "id": "0a1729f3",
   "metadata": {},
   "outputs": [
    {
     "data": {
      "text/plain": [
       "Pipeline(steps=[('standardscaler', StandardScaler()),\n",
       "                ('logisticregression', LogisticRegression())])"
      ]
     },
     "execution_count": 13,
     "metadata": {},
     "output_type": "execute_result"
    }
   ],
   "source": [
    "from sklearn.pipeline import make_pipeline\n",
    "\n",
    "model = make_pipeline(StandardScaler(), LogisticRegression())\n",
    "model"
   ]
  },
  {
   "cell_type": "code",
   "execution_count": null,
   "id": "166eb23b",
   "metadata": {},
   "outputs": [],
   "source": []
  }
 ],
 "metadata": {
  "kernelspec": {
   "display_name": "Python 3 (ipykernel)",
   "language": "python",
   "name": "python3"
  },
  "language_info": {
   "codemirror_mode": {
    "name": "ipython",
    "version": 3
   },
   "file_extension": ".py",
   "mimetype": "text/x-python",
   "name": "python",
   "nbconvert_exporter": "python",
   "pygments_lexer": "ipython3",
   "version": "3.11.5"
  }
 },
 "nbformat": 4,
 "nbformat_minor": 5
}
