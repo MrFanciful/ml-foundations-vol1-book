{
 "cells": [
  {
   "cell_type": "markdown",
   "id": "c61f3520",
   "metadata": {},
   "source": [
    "Estimators"
   ]
  },
  {
   "cell_type": "code",
   "execution_count": 13,
   "id": "b008c12b",
   "metadata": {},
   "outputs": [],
   "source": [
    "from sklearn.tree import DecisionTreeClassifier\n",
    "\n",
    "clf = DecisionTreeClassifier(criterion='entropy', max_depth=3)"
   ]
  },
  {
   "cell_type": "code",
   "execution_count": 14,
   "id": "0201cf99",
   "metadata": {},
   "outputs": [
    {
     "name": "stdout",
     "output_type": "stream",
     "text": [
      "entropy\n",
      "3\n"
     ]
    }
   ],
   "source": [
    "print(clf.criterion)\n",
    "print(clf.max_depth)"
   ]
  },
  {
   "cell_type": "code",
   "execution_count": 15,
   "id": "64dad74b",
   "metadata": {},
   "outputs": [
    {
     "data": {
      "text/plain": [
       "DecisionTreeClassifier(criterion='entropy', max_depth=3)"
      ]
     },
     "execution_count": 15,
     "metadata": {},
     "output_type": "execute_result"
    }
   ],
   "source": [
    "X = [[5.1, 3.5, 1.4, 0.2],\n",
    "     [4.9, 3. , 1.4, 0.2],\n",
    "     [7. , 3.2, 4.7, 1.4],\n",
    "     [6.4, 3.2, 4.5, 1.5],\n",
    "     [6.3, 3.3, 6. , 2.5]]\n",
    "y = [0, 0, 1, 1, 2]\n",
    "\n",
    "clf.fit(X, y)"
   ]
  },
  {
   "cell_type": "code",
   "execution_count": 16,
   "id": "e0c821fa",
   "metadata": {},
   "outputs": [
    {
     "data": {
      "text/plain": [
       "5"
      ]
     },
     "execution_count": 16,
     "metadata": {},
     "output_type": "execute_result"
    }
   ],
   "source": [
    "clf.tree_.node_count"
   ]
  },
  {
   "cell_type": "code",
   "execution_count": 17,
   "id": "f6210085",
   "metadata": {},
   "outputs": [
    {
     "data": {
      "text/plain": [
       "{'ccp_alpha': 0.0,\n",
       " 'class_weight': None,\n",
       " 'criterion': 'entropy',\n",
       " 'max_depth': 3,\n",
       " 'max_features': None,\n",
       " 'max_leaf_nodes': None,\n",
       " 'min_impurity_decrease': 0.0,\n",
       " 'min_samples_leaf': 1,\n",
       " 'min_samples_split': 2,\n",
       " 'min_weight_fraction_leaf': 0.0,\n",
       " 'random_state': None,\n",
       " 'splitter': 'best'}"
      ]
     },
     "execution_count": 17,
     "metadata": {},
     "output_type": "execute_result"
    }
   ],
   "source": [
    "clf.get_params()"
   ]
  },
  {
   "cell_type": "code",
   "execution_count": 18,
   "id": "96a2c4b9",
   "metadata": {},
   "outputs": [
    {
     "data": {
      "text/plain": [
       "DecisionTreeClassifier(criterion='entropy', max_depth=5)"
      ]
     },
     "execution_count": 18,
     "metadata": {},
     "output_type": "execute_result"
    }
   ],
   "source": [
    "clf.set_params(max_depth=5)"
   ]
  },
  {
   "cell_type": "markdown",
   "id": "b66f2e1c",
   "metadata": {},
   "source": [
    "Predictors"
   ]
  },
  {
   "cell_type": "code",
   "execution_count": 23,
   "id": "e54ee88d",
   "metadata": {},
   "outputs": [
    {
     "data": {
      "text/plain": [
       "array([0])"
      ]
     },
     "execution_count": 23,
     "metadata": {},
     "output_type": "execute_result"
    }
   ],
   "source": [
    "X_test = [[4.7, 3.2, 3.3, 0.2]]\n",
    "\n",
    "y_pred = clf.predict(X_test)\n",
    "y_pred"
   ]
  },
  {
   "cell_type": "code",
   "execution_count": 24,
   "id": "6c8b12a9",
   "metadata": {},
   "outputs": [
    {
     "data": {
      "text/plain": [
       "array([[1., 0., 0.]])"
      ]
     },
     "execution_count": 24,
     "metadata": {},
     "output_type": "execute_result"
    }
   ],
   "source": [
    "clf.predict_proba(X_test)"
   ]
  },
  {
   "cell_type": "code",
   "execution_count": 25,
   "id": "da412e34",
   "metadata": {},
   "outputs": [
    {
     "data": {
      "text/plain": [
       "1.0"
      ]
     },
     "execution_count": 25,
     "metadata": {},
     "output_type": "execute_result"
    }
   ],
   "source": [
    "accuracy = clf.score(X, y)\n",
    "accuracy"
   ]
  },
  {
   "cell_type": "markdown",
   "id": "1892b611",
   "metadata": {},
   "source": [
    "Transformers"
   ]
  },
  {
   "cell_type": "code",
   "execution_count": 26,
   "id": "6e4e93aa",
   "metadata": {},
   "outputs": [
    {
     "data": {
      "text/plain": [
       "array([[-1.04157134,  1.60018938, -1.17729571, -1.0994609 ],\n",
       "       [-1.28956451, -1.47709789, -1.17729571, -1.0994609 ],\n",
       "       [ 1.31436383, -0.24618298,  0.58864786,  0.27486523],\n",
       "       [ 0.5703843 , -0.24618298,  0.48162097,  0.3893924 ],\n",
       "       [ 0.44638772,  0.36927447,  1.2843226 ,  1.53466417]])"
      ]
     },
     "execution_count": 26,
     "metadata": {},
     "output_type": "execute_result"
    }
   ],
   "source": [
    "from sklearn.preprocessing import StandardScaler\n",
    "\n",
    "scaler = StandardScaler()\n",
    "scaler.fit(X)\n",
    "new_X = scaler.transform(X)\n",
    "new_X"
   ]
  },
  {
   "cell_type": "code",
   "execution_count": 27,
   "id": "8bdd057f",
   "metadata": {},
   "outputs": [
    {
     "data": {
      "text/plain": [
       "array([[-1.04157134,  1.60018938, -1.17729571, -1.0994609 ],\n",
       "       [-1.28956451, -1.47709789, -1.17729571, -1.0994609 ],\n",
       "       [ 1.31436383, -0.24618298,  0.58864786,  0.27486523],\n",
       "       [ 0.5703843 , -0.24618298,  0.48162097,  0.3893924 ],\n",
       "       [ 0.44638772,  0.36927447,  1.2843226 ,  1.53466417]])"
      ]
     },
     "execution_count": 27,
     "metadata": {},
     "output_type": "execute_result"
    }
   ],
   "source": [
    "scaler.fit_transform(X)"
   ]
  },
  {
   "cell_type": "code",
   "execution_count": null,
   "id": "dd0eaf88",
   "metadata": {},
   "outputs": [],
   "source": []
  }
 ],
 "metadata": {
  "kernelspec": {
   "display_name": "Python 3 (ipykernel)",
   "language": "python",
   "name": "python3"
  },
  "language_info": {
   "codemirror_mode": {
    "name": "ipython",
    "version": 3
   },
   "file_extension": ".py",
   "mimetype": "text/x-python",
   "name": "python",
   "nbconvert_exporter": "python",
   "pygments_lexer": "ipython3",
   "version": "3.9.12"
  }
 },
 "nbformat": 4,
 "nbformat_minor": 5
}
