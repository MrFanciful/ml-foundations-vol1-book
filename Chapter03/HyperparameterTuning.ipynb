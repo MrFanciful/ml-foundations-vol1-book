{
 "cells": [
  {
   "cell_type": "code",
   "execution_count": 1,
   "id": "5c544a9f",
   "metadata": {},
   "outputs": [],
   "source": [
    "# Author: Roi Yehoshua <roiyeho@gmail.com>\n",
    "# Date: January 2014\n",
    "# License: MIT"
   ]
  },
  {
   "cell_type": "code",
   "execution_count": 2,
   "id": "0634da05",
   "metadata": {},
   "outputs": [],
   "source": [
    "import numpy as np\n",
    "import pandas as pd\n",
    "import matplotlib.pyplot as plt\n",
    "import seaborn as sns\n",
    "\n",
    "np.random.seed(42)"
   ]
  },
  {
   "cell_type": "code",
   "execution_count": 3,
   "id": "e1362015",
   "metadata": {},
   "outputs": [],
   "source": [
    "from sklearn.datasets import load_iris\n",
    "\n",
    "X, y = load_iris(as_frame=True, return_X_y=True)"
   ]
  },
  {
   "cell_type": "code",
   "execution_count": 4,
   "id": "4b570db8",
   "metadata": {},
   "outputs": [],
   "source": [
    "from sklearn.model_selection import train_test_split\n",
    "\n",
    "X_train, X_test, y_train, y_test = train_test_split(X, y, random_state=42, stratify=y)"
   ]
  },
  {
   "cell_type": "markdown",
   "id": "b7bbb1db",
   "metadata": {},
   "source": [
    "Grid Search"
   ]
  },
  {
   "cell_type": "code",
   "execution_count": 5,
   "id": "e64138cc",
   "metadata": {},
   "outputs": [
    {
     "data": {
      "text/plain": [
       "GridSearchCV(cv=3, estimator=DecisionTreeClassifier(random_state=42), n_jobs=-1,\n",
       "             param_grid={'criterion': ['gini', 'entropy'],\n",
       "                         'max_depth': array([ 1,  2,  3,  4,  5,  6,  7,  8,  9, 10]),\n",
       "                         'min_samples_leaf': array([ 1,  2,  3,  4,  5,  6,  7,  8,  9, 10])})"
      ]
     },
     "execution_count": 5,
     "metadata": {},
     "output_type": "execute_result"
    }
   ],
   "source": [
    "from sklearn.tree import DecisionTreeClassifier\n",
    "from sklearn.model_selection import GridSearchCV\n",
    "\n",
    "param_grid = {\n",
    "    'criterion': ['gini', 'entropy'],\n",
    "    'max_depth': np.arange(1, 11),\n",
    "    'min_samples_leaf': np.arange(1, 11)\n",
    "}\n",
    "\n",
    "clf = DecisionTreeClassifier(random_state=42)\n",
    "grid_search = GridSearchCV(clf, param_grid, cv=3, n_jobs=-1)\n",
    "\n",
    "grid_search.fit(X_train, y_train)"
   ]
  },
  {
   "cell_type": "code",
   "execution_count": 6,
   "id": "1f4f1b4f",
   "metadata": {},
   "outputs": [
    {
     "data": {
      "text/plain": [
       "{'criterion': 'gini', 'max_depth': 2, 'min_samples_leaf': 1}"
      ]
     },
     "execution_count": 6,
     "metadata": {},
     "output_type": "execute_result"
    }
   ],
   "source": [
    "grid_search.best_params_"
   ]
  },
  {
   "cell_type": "code",
   "execution_count": 7,
   "id": "f348f1db",
   "metadata": {},
   "outputs": [
    {
     "data": {
      "text/plain": [
       "0.9374110953058321"
      ]
     },
     "execution_count": 7,
     "metadata": {},
     "output_type": "execute_result"
    }
   ],
   "source": [
    "grid_search.best_score_"
   ]
  },
  {
   "cell_type": "code",
   "execution_count": 8,
   "id": "a0d3130a",
   "metadata": {},
   "outputs": [
    {
     "name": "stdout",
     "output_type": "stream",
     "text": [
      "Test accuracy: 0.9211\n"
     ]
    }
   ],
   "source": [
    "test_accuracy = grid_search.score(X_test, y_test)\n",
    "print(f'Test accuracy: {test_accuracy:.4f}')"
   ]
  },
  {
   "cell_type": "code",
   "execution_count": 9,
   "id": "517fbeab",
   "metadata": {},
   "outputs": [
    {
     "data": {
      "text/html": [
       "<div>\n",
       "<style scoped>\n",
       "    .dataframe tbody tr th:only-of-type {\n",
       "        vertical-align: middle;\n",
       "    }\n",
       "\n",
       "    .dataframe tbody tr th {\n",
       "        vertical-align: top;\n",
       "    }\n",
       "\n",
       "    .dataframe thead th {\n",
       "        text-align: right;\n",
       "    }\n",
       "</style>\n",
       "<table border=\"1\" class=\"dataframe\">\n",
       "  <thead>\n",
       "    <tr style=\"text-align: right;\">\n",
       "      <th></th>\n",
       "      <th>mean_fit_time</th>\n",
       "      <th>std_fit_time</th>\n",
       "      <th>mean_score_time</th>\n",
       "      <th>std_score_time</th>\n",
       "      <th>param_criterion</th>\n",
       "      <th>param_max_depth</th>\n",
       "      <th>param_min_samples_leaf</th>\n",
       "      <th>params</th>\n",
       "      <th>split0_test_score</th>\n",
       "      <th>split1_test_score</th>\n",
       "      <th>split2_test_score</th>\n",
       "      <th>mean_test_score</th>\n",
       "      <th>std_test_score</th>\n",
       "      <th>rank_test_score</th>\n",
       "    </tr>\n",
       "  </thead>\n",
       "  <tbody>\n",
       "    <tr>\n",
       "      <th>0</th>\n",
       "      <td>0.003678</td>\n",
       "      <td>4.845241e-04</td>\n",
       "      <td>0.001995</td>\n",
       "      <td>2.973602e-07</td>\n",
       "      <td>gini</td>\n",
       "      <td>1</td>\n",
       "      <td>1</td>\n",
       "      <td>{'criterion': 'gini', 'max_depth': 1, 'min_sam...</td>\n",
       "      <td>0.657895</td>\n",
       "      <td>0.648649</td>\n",
       "      <td>0.675676</td>\n",
       "      <td>0.660740</td>\n",
       "      <td>0.011216</td>\n",
       "      <td>181</td>\n",
       "    </tr>\n",
       "    <tr>\n",
       "      <th>1</th>\n",
       "      <td>0.004682</td>\n",
       "      <td>9.103719e-04</td>\n",
       "      <td>0.001990</td>\n",
       "      <td>6.409278e-06</td>\n",
       "      <td>gini</td>\n",
       "      <td>1</td>\n",
       "      <td>2</td>\n",
       "      <td>{'criterion': 'gini', 'max_depth': 1, 'min_sam...</td>\n",
       "      <td>0.657895</td>\n",
       "      <td>0.648649</td>\n",
       "      <td>0.675676</td>\n",
       "      <td>0.660740</td>\n",
       "      <td>0.011216</td>\n",
       "      <td>181</td>\n",
       "    </tr>\n",
       "    <tr>\n",
       "      <th>2</th>\n",
       "      <td>0.004678</td>\n",
       "      <td>9.514294e-04</td>\n",
       "      <td>0.001994</td>\n",
       "      <td>2.973602e-07</td>\n",
       "      <td>gini</td>\n",
       "      <td>1</td>\n",
       "      <td>3</td>\n",
       "      <td>{'criterion': 'gini', 'max_depth': 1, 'min_sam...</td>\n",
       "      <td>0.657895</td>\n",
       "      <td>0.648649</td>\n",
       "      <td>0.675676</td>\n",
       "      <td>0.660740</td>\n",
       "      <td>0.011216</td>\n",
       "      <td>181</td>\n",
       "    </tr>\n",
       "    <tr>\n",
       "      <th>3</th>\n",
       "      <td>0.003989</td>\n",
       "      <td>4.495664e-07</td>\n",
       "      <td>0.002680</td>\n",
       "      <td>9.469369e-04</td>\n",
       "      <td>gini</td>\n",
       "      <td>1</td>\n",
       "      <td>4</td>\n",
       "      <td>{'criterion': 'gini', 'max_depth': 1, 'min_sam...</td>\n",
       "      <td>0.657895</td>\n",
       "      <td>0.648649</td>\n",
       "      <td>0.675676</td>\n",
       "      <td>0.660740</td>\n",
       "      <td>0.011216</td>\n",
       "      <td>181</td>\n",
       "    </tr>\n",
       "    <tr>\n",
       "      <th>4</th>\n",
       "      <td>0.003510</td>\n",
       "      <td>4.271640e-04</td>\n",
       "      <td>0.001994</td>\n",
       "      <td>1.946680e-07</td>\n",
       "      <td>gini</td>\n",
       "      <td>1</td>\n",
       "      <td>5</td>\n",
       "      <td>{'criterion': 'gini', 'max_depth': 1, 'min_sam...</td>\n",
       "      <td>0.657895</td>\n",
       "      <td>0.648649</td>\n",
       "      <td>0.675676</td>\n",
       "      <td>0.660740</td>\n",
       "      <td>0.011216</td>\n",
       "      <td>181</td>\n",
       "    </tr>\n",
       "    <tr>\n",
       "      <th>...</th>\n",
       "      <td>...</td>\n",
       "      <td>...</td>\n",
       "      <td>...</td>\n",
       "      <td>...</td>\n",
       "      <td>...</td>\n",
       "      <td>...</td>\n",
       "      <td>...</td>\n",
       "      <td>...</td>\n",
       "      <td>...</td>\n",
       "      <td>...</td>\n",
       "      <td>...</td>\n",
       "      <td>...</td>\n",
       "      <td>...</td>\n",
       "      <td>...</td>\n",
       "    </tr>\n",
       "    <tr>\n",
       "      <th>195</th>\n",
       "      <td>0.002325</td>\n",
       "      <td>4.682234e-04</td>\n",
       "      <td>0.001664</td>\n",
       "      <td>4.717101e-04</td>\n",
       "      <td>entropy</td>\n",
       "      <td>10</td>\n",
       "      <td>6</td>\n",
       "      <td>{'criterion': 'entropy', 'max_depth': 10, 'min...</td>\n",
       "      <td>0.947368</td>\n",
       "      <td>0.918919</td>\n",
       "      <td>0.945946</td>\n",
       "      <td>0.937411</td>\n",
       "      <td>0.013089</td>\n",
       "      <td>1</td>\n",
       "    </tr>\n",
       "    <tr>\n",
       "      <th>196</th>\n",
       "      <td>0.003324</td>\n",
       "      <td>4.692914e-04</td>\n",
       "      <td>0.001662</td>\n",
       "      <td>4.713142e-04</td>\n",
       "      <td>entropy</td>\n",
       "      <td>10</td>\n",
       "      <td>7</td>\n",
       "      <td>{'criterion': 'entropy', 'max_depth': 10, 'min...</td>\n",
       "      <td>0.947368</td>\n",
       "      <td>0.918919</td>\n",
       "      <td>0.945946</td>\n",
       "      <td>0.937411</td>\n",
       "      <td>0.013089</td>\n",
       "      <td>1</td>\n",
       "    </tr>\n",
       "    <tr>\n",
       "      <th>197</th>\n",
       "      <td>0.002992</td>\n",
       "      <td>8.142961e-04</td>\n",
       "      <td>0.001994</td>\n",
       "      <td>3.371748e-07</td>\n",
       "      <td>entropy</td>\n",
       "      <td>10</td>\n",
       "      <td>8</td>\n",
       "      <td>{'criterion': 'entropy', 'max_depth': 10, 'min...</td>\n",
       "      <td>0.947368</td>\n",
       "      <td>0.918919</td>\n",
       "      <td>0.945946</td>\n",
       "      <td>0.937411</td>\n",
       "      <td>0.013089</td>\n",
       "      <td>1</td>\n",
       "    </tr>\n",
       "    <tr>\n",
       "      <th>198</th>\n",
       "      <td>0.002327</td>\n",
       "      <td>4.705836e-04</td>\n",
       "      <td>0.001330</td>\n",
       "      <td>4.708088e-04</td>\n",
       "      <td>entropy</td>\n",
       "      <td>10</td>\n",
       "      <td>9</td>\n",
       "      <td>{'criterion': 'entropy', 'max_depth': 10, 'min...</td>\n",
       "      <td>0.947368</td>\n",
       "      <td>0.918919</td>\n",
       "      <td>0.945946</td>\n",
       "      <td>0.937411</td>\n",
       "      <td>0.013089</td>\n",
       "      <td>1</td>\n",
       "    </tr>\n",
       "    <tr>\n",
       "      <th>199</th>\n",
       "      <td>0.001663</td>\n",
       "      <td>4.700217e-04</td>\n",
       "      <td>0.000996</td>\n",
       "      <td>3.371748e-07</td>\n",
       "      <td>entropy</td>\n",
       "      <td>10</td>\n",
       "      <td>10</td>\n",
       "      <td>{'criterion': 'entropy', 'max_depth': 10, 'min...</td>\n",
       "      <td>0.947368</td>\n",
       "      <td>0.918919</td>\n",
       "      <td>0.945946</td>\n",
       "      <td>0.937411</td>\n",
       "      <td>0.013089</td>\n",
       "      <td>1</td>\n",
       "    </tr>\n",
       "  </tbody>\n",
       "</table>\n",
       "<p>200 rows × 14 columns</p>\n",
       "</div>"
      ],
      "text/plain": [
       "     mean_fit_time  std_fit_time  mean_score_time  std_score_time  \\\n",
       "0         0.003678  4.845241e-04         0.001995    2.973602e-07   \n",
       "1         0.004682  9.103719e-04         0.001990    6.409278e-06   \n",
       "2         0.004678  9.514294e-04         0.001994    2.973602e-07   \n",
       "3         0.003989  4.495664e-07         0.002680    9.469369e-04   \n",
       "4         0.003510  4.271640e-04         0.001994    1.946680e-07   \n",
       "..             ...           ...              ...             ...   \n",
       "195       0.002325  4.682234e-04         0.001664    4.717101e-04   \n",
       "196       0.003324  4.692914e-04         0.001662    4.713142e-04   \n",
       "197       0.002992  8.142961e-04         0.001994    3.371748e-07   \n",
       "198       0.002327  4.705836e-04         0.001330    4.708088e-04   \n",
       "199       0.001663  4.700217e-04         0.000996    3.371748e-07   \n",
       "\n",
       "    param_criterion param_max_depth param_min_samples_leaf  \\\n",
       "0              gini               1                      1   \n",
       "1              gini               1                      2   \n",
       "2              gini               1                      3   \n",
       "3              gini               1                      4   \n",
       "4              gini               1                      5   \n",
       "..              ...             ...                    ...   \n",
       "195         entropy              10                      6   \n",
       "196         entropy              10                      7   \n",
       "197         entropy              10                      8   \n",
       "198         entropy              10                      9   \n",
       "199         entropy              10                     10   \n",
       "\n",
       "                                                params  split0_test_score  \\\n",
       "0    {'criterion': 'gini', 'max_depth': 1, 'min_sam...           0.657895   \n",
       "1    {'criterion': 'gini', 'max_depth': 1, 'min_sam...           0.657895   \n",
       "2    {'criterion': 'gini', 'max_depth': 1, 'min_sam...           0.657895   \n",
       "3    {'criterion': 'gini', 'max_depth': 1, 'min_sam...           0.657895   \n",
       "4    {'criterion': 'gini', 'max_depth': 1, 'min_sam...           0.657895   \n",
       "..                                                 ...                ...   \n",
       "195  {'criterion': 'entropy', 'max_depth': 10, 'min...           0.947368   \n",
       "196  {'criterion': 'entropy', 'max_depth': 10, 'min...           0.947368   \n",
       "197  {'criterion': 'entropy', 'max_depth': 10, 'min...           0.947368   \n",
       "198  {'criterion': 'entropy', 'max_depth': 10, 'min...           0.947368   \n",
       "199  {'criterion': 'entropy', 'max_depth': 10, 'min...           0.947368   \n",
       "\n",
       "     split1_test_score  split2_test_score  mean_test_score  std_test_score  \\\n",
       "0             0.648649           0.675676         0.660740        0.011216   \n",
       "1             0.648649           0.675676         0.660740        0.011216   \n",
       "2             0.648649           0.675676         0.660740        0.011216   \n",
       "3             0.648649           0.675676         0.660740        0.011216   \n",
       "4             0.648649           0.675676         0.660740        0.011216   \n",
       "..                 ...                ...              ...             ...   \n",
       "195           0.918919           0.945946         0.937411        0.013089   \n",
       "196           0.918919           0.945946         0.937411        0.013089   \n",
       "197           0.918919           0.945946         0.937411        0.013089   \n",
       "198           0.918919           0.945946         0.937411        0.013089   \n",
       "199           0.918919           0.945946         0.937411        0.013089   \n",
       "\n",
       "     rank_test_score  \n",
       "0                181  \n",
       "1                181  \n",
       "2                181  \n",
       "3                181  \n",
       "4                181  \n",
       "..               ...  \n",
       "195                1  \n",
       "196                1  \n",
       "197                1  \n",
       "198                1  \n",
       "199                1  \n",
       "\n",
       "[200 rows x 14 columns]"
      ]
     },
     "execution_count": 9,
     "metadata": {},
     "output_type": "execute_result"
    }
   ],
   "source": [
    "df = pd.DataFrame(grid_search.cv_results_)\n",
    "df"
   ]
  },
  {
   "cell_type": "markdown",
   "id": "ce7d78e1",
   "metadata": {},
   "source": [
    "Random Search"
   ]
  },
  {
   "cell_type": "code",
   "execution_count": 10,
   "id": "a8f71484",
   "metadata": {},
   "outputs": [
    {
     "data": {
      "text/plain": [
       "RandomizedSearchCV(cv=3, estimator=DecisionTreeClassifier(random_state=42),\n",
       "                   n_iter=20, n_jobs=-1,\n",
       "                   param_distributions={'criterion': ['gini', 'entropy'],\n",
       "                                        'max_depth': array([ 1,  2,  3,  4,  5,  6,  7,  8,  9, 10]),\n",
       "                                        'min_samples_leaf': array([ 1,  2,  3,  4,  5,  6,  7,  8,  9, 10])},\n",
       "                   random_state=42)"
      ]
     },
     "execution_count": 10,
     "metadata": {},
     "output_type": "execute_result"
    }
   ],
   "source": [
    "from sklearn.model_selection import RandomizedSearchCV\n",
    "\n",
    "# Define the parameter space\n",
    "param_dist = {    \n",
    "    'criterion': ['gini', 'entropy'],\n",
    "    'max_depth': np.arange(1, 11),\n",
    "    'min_samples_leaf': np.arange(1, 11)\n",
    "}\n",
    "\n",
    "# Create a RandomizedSearchCV instance\n",
    "clf = DecisionTreeClassifier(random_state=42)\n",
    "random_search = RandomizedSearchCV(clf, param_dist, n_iter=20, cv=3, random_state=42, n_jobs=-1)\n",
    "\n",
    "# Fit to the training data\n",
    "random_search.fit(X_train, y_train)"
   ]
  },
  {
   "cell_type": "code",
   "execution_count": 11,
   "id": "80d30874",
   "metadata": {},
   "outputs": [
    {
     "data": {
      "text/plain": [
       "{'min_samples_leaf': 6, 'max_depth': 10, 'criterion': 'gini'}"
      ]
     },
     "execution_count": 11,
     "metadata": {},
     "output_type": "execute_result"
    }
   ],
   "source": [
    "random_search.best_params_"
   ]
  },
  {
   "cell_type": "code",
   "execution_count": 12,
   "id": "ca8f0b34",
   "metadata": {},
   "outputs": [
    {
     "data": {
      "text/plain": [
       "0.9374110953058321"
      ]
     },
     "execution_count": 12,
     "metadata": {},
     "output_type": "execute_result"
    }
   ],
   "source": [
    "random_search.best_score_"
   ]
  },
  {
   "cell_type": "code",
   "execution_count": 13,
   "id": "731f24c8",
   "metadata": {},
   "outputs": [
    {
     "name": "stdout",
     "output_type": "stream",
     "text": [
      "Test accuracy: 0.9211\n"
     ]
    }
   ],
   "source": [
    "test_accuracy = grid_search.score(X_test, y_test)\n",
    "print(f'Test accuracy: {test_accuracy:.4f}')"
   ]
  },
  {
   "cell_type": "markdown",
   "id": "8494a7e5",
   "metadata": {},
   "source": [
    "Bayesian Optimization"
   ]
  },
  {
   "cell_type": "code",
   "execution_count": 14,
   "id": "c9ca9cff",
   "metadata": {},
   "outputs": [
    {
     "name": "stderr",
     "output_type": "stream",
     "text": [
      "C:\\Users\\roi_y\\anaconda3\\lib\\site-packages\\skopt\\optimizer\\optimizer.py:449: UserWarning: The objective has been evaluated at this point before.\n",
      "  warnings.warn(\"The objective has been evaluated \"\n"
     ]
    },
    {
     "data": {
      "text/plain": [
       "BayesSearchCV(cv=3, estimator=DecisionTreeClassifier(random_state=42),\n",
       "              n_iter=20, n_jobs=-1, random_state=42,\n",
       "              search_spaces={'criterion': Categorical(categories=('gini', 'entropy'), prior=None),\n",
       "                             'max_depth': Integer(low=1, high=11, prior='uniform', transform='normalize'),\n",
       "                             'min_samples_leaf': Integer(low=1, high=11, prior='uniform', transform='normalize')})"
      ]
     },
     "execution_count": 14,
     "metadata": {},
     "output_type": "execute_result"
    }
   ],
   "source": [
    "from skopt import BayesSearchCV\n",
    "from skopt.space import Categorical, Integer\n",
    "\n",
    "# Define the search space for hyperparameters\n",
    "search_space = {\n",
    "    'criterion': Categorical(['gini', 'entropy']),\n",
    "    'max_depth': Integer(1, 11),\n",
    "    'min_samples_leaf': Integer(1, 11)\n",
    "}\n",
    "\n",
    "# Create a BayesSearchCV instance\n",
    "clf = DecisionTreeClassifier(random_state=42)\n",
    "bayes_search = BayesSearchCV(clf, search_space, n_iter=20, cv=3, random_state=42, n_jobs=-1)\n",
    "\n",
    "# Perform the Bayesian optimization search\n",
    "bayes_search.fit(X_train, y_train)"
   ]
  },
  {
   "cell_type": "code",
   "execution_count": 15,
   "id": "291f6a45",
   "metadata": {},
   "outputs": [
    {
     "data": {
      "text/plain": [
       "OrderedDict([('criterion', 'entropy'),\n",
       "             ('max_depth', 8),\n",
       "             ('min_samples_leaf', 10)])"
      ]
     },
     "execution_count": 15,
     "metadata": {},
     "output_type": "execute_result"
    }
   ],
   "source": [
    "bayes_search.best_params_"
   ]
  },
  {
   "cell_type": "code",
   "execution_count": 16,
   "id": "8f65959d",
   "metadata": {},
   "outputs": [
    {
     "data": {
      "text/plain": [
       "0.9374110953058321"
      ]
     },
     "execution_count": 16,
     "metadata": {},
     "output_type": "execute_result"
    }
   ],
   "source": [
    "bayes_search.best_score_"
   ]
  },
  {
   "cell_type": "code",
   "execution_count": 17,
   "id": "adcbca78",
   "metadata": {},
   "outputs": [
    {
     "name": "stdout",
     "output_type": "stream",
     "text": [
      "Test accuracy: 0.9211\n"
     ]
    }
   ],
   "source": [
    "test_accuracy = bayes_search.score(X_test, y_test)\n",
    "print(f'Test accuracy: {test_accuracy:.4f}')"
   ]
  },
  {
   "cell_type": "code",
   "execution_count": null,
   "id": "14bb1101",
   "metadata": {},
   "outputs": [],
   "source": []
  }
 ],
 "metadata": {
  "kernelspec": {
   "display_name": "Python 3 (ipykernel)",
   "language": "python",
   "name": "python3"
  },
  "language_info": {
   "codemirror_mode": {
    "name": "ipython",
    "version": 3
   },
   "file_extension": ".py",
   "mimetype": "text/x-python",
   "name": "python",
   "nbconvert_exporter": "python",
   "pygments_lexer": "ipython3",
   "version": "3.11.5"
  }
 },
 "nbformat": 4,
 "nbformat_minor": 5
}
