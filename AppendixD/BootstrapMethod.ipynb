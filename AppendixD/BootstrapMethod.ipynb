{
 "cells": [
  {
   "cell_type": "code",
   "execution_count": 1,
   "id": "17c0e5fc-53fd-4f5f-8ae1-fff5f2c65e4a",
   "metadata": {},
   "outputs": [],
   "source": [
    "# Author: Roi Yehoshua <roiyeho@gmail.com>\n",
    "# Date: April 2025\n",
    "# License: MIT"
   ]
  },
  {
   "cell_type": "code",
   "execution_count": 2,
   "id": "33b0a0f4-62a2-473d-abec-f6d77f99d14e",
   "metadata": {},
   "outputs": [],
   "source": [
    "import numpy as np"
   ]
  },
  {
   "cell_type": "markdown",
   "id": "f2ba5824-eefa-43ad-9922-90dc066581ce",
   "metadata": {},
   "source": [
    "Bootstrap Confidence Interval"
   ]
  },
  {
   "cell_type": "code",
   "execution_count": 3,
   "id": "ec7b2c5e-3603-4aa2-a62f-1e1776b7e568",
   "metadata": {},
   "outputs": [
    {
     "name": "stdout",
     "output_type": "stream",
     "text": [
      "95% Bootstrap CI for the median: [79.0, 88.0]\n"
     ]
    }
   ],
   "source": [
    "np.random.seed(42)  # for reproducibility\n",
    "\n",
    "data = np.array([78, 85, 92, 88, 75, 83, 91, 79, 87, 80])\n",
    "n = len(data)\n",
    "B = 1000  # Number of bootstrap samples\n",
    "\n",
    "# Bootstrap resampling\n",
    "boot_medians = np.array([\n",
    "    np.median(np.random.choice(data, size=n, replace=True))\n",
    "    for _ in range(B)\n",
    "])\n",
    "\n",
    "# Percentile-based 95% confidence interval\n",
    "ci_lower = np.percentile(boot_medians, 2.5)\n",
    "ci_upper = np.percentile(boot_medians, 97.5)\n",
    "\n",
    "print(f\"95% Bootstrap CI for the median: [{ci_lower:.1f}, {ci_upper:.1f}]\")"
   ]
  },
  {
   "cell_type": "markdown",
   "id": "415038ab-231b-4b35-9b27-af9700d9349d",
   "metadata": {},
   "source": [
    "Bootstrap Hypothesis Testing"
   ]
  },
  {
   "cell_type": "code",
   "execution_count": 4,
   "id": "4043a2b2-f5c1-4125-8ce8-5151cedb1667",
   "metadata": {},
   "outputs": [
    {
     "name": "stdout",
     "output_type": "stream",
     "text": [
      "Bootstrap p-value: 0.489\n"
     ]
    }
   ],
   "source": [
    "np.random.seed(42)\n",
    "\n",
    "data = np.array([78, 85, 92, 88, 75, 83, 91, 79, 87, 80])\n",
    "mu_0 = 85\n",
    "B = 1000\n",
    "\n",
    "# Observed test statistic\n",
    "x_bar = np.mean(data)\n",
    "T_obs = abs(x_bar - mu_0)\n",
    "\n",
    "# Null-centered data\n",
    "data_null = data - x_bar + mu_0\n",
    "\n",
    "# Bootstrap test statistics\n",
    "boot_stats = np.array([\n",
    "    abs(np.mean(np.random.choice(data_null, size=len(data_null), replace=True)) - mu_0)\n",
    "    for _ in range(B)\n",
    "])\n",
    "\n",
    "# Compute p-value\n",
    "p_value = np.mean(boot_stats >= T_obs)\n",
    "print(f\"Bootstrap p-value: {p_value:.3f}\")"
   ]
  },
  {
   "cell_type": "code",
   "execution_count": null,
   "id": "6e6601b3-0ee7-4ffb-9a59-40aa6c49c295",
   "metadata": {},
   "outputs": [],
   "source": []
  }
 ],
 "metadata": {
  "kernelspec": {
   "display_name": "Python 3 (ipykernel)",
   "language": "python",
   "name": "python3"
  },
  "language_info": {
   "codemirror_mode": {
    "name": "ipython",
    "version": 3
   },
   "file_extension": ".py",
   "mimetype": "text/x-python",
   "name": "python",
   "nbconvert_exporter": "python",
   "pygments_lexer": "ipython3",
   "version": "3.11.5"
  }
 },
 "nbformat": 4,
 "nbformat_minor": 5
}
